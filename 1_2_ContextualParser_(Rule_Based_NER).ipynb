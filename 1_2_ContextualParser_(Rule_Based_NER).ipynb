{
  "nbformat": 4,
  "nbformat_minor": 0,
  "metadata": {
    "colab": {
      "name": "1.2_ContextualParser (Rule Based NER).ipynb",
      "provenance": [],
      "authorship_tag": "ABX9TyNw+01BEVPj2IW8iQO9HuQ5",
      "include_colab_link": true
    },
    "kernelspec": {
      "name": "python3",
      "display_name": "Python 3"
    },
    "language_info": {
      "name": "python"
    }
  },
  "cells": [
    {
      "cell_type": "markdown",
      "metadata": {
        "id": "view-in-github",
        "colab_type": "text"
      },
      "source": [
        "<a href=\"https://colab.research.google.com/github/onlyabhilash/spark-nlp-ClinicalResearch/blob/main/1_2_ContextualParser_(Rule_Based_NER).ipynb\" target=\"_parent\"><img src=\"https://colab.research.google.com/assets/colab-badge.svg\" alt=\"Open In Colab\"/></a>"
      ]
    },
    {
      "cell_type": "code",
      "execution_count": null,
      "metadata": {
        "colab": {
          "resources": {
            "http://localhost:8080/nbextensions/google.colab/files.js": {
              "data": "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",
              "ok": true,
              "headers": [
                [
                  "content-type",
                  "application/javascript"
                ]
              ],
              "status": 200,
              "status_text": ""
            }
          },
          "base_uri": "https://localhost:8080/",
          "height": 73
        },
        "id": "iV82o2QMhDJD",
        "outputId": "186ac094-1e8b-4269-c1e2-d3fcd180f0ce"
      },
      "outputs": [
        {
          "output_type": "display_data",
          "data": {
            "text/plain": [
              "<IPython.core.display.HTML object>"
            ],
            "text/html": [
              "\n",
              "     <input type=\"file\" id=\"files-16953a2b-b3e0-4f99-924e-0141ff88605e\" name=\"files[]\" multiple disabled\n",
              "        style=\"border:none\" />\n",
              "     <output id=\"result-16953a2b-b3e0-4f99-924e-0141ff88605e\">\n",
              "      Upload widget is only available when the cell has been executed in the\n",
              "      current browser session. Please rerun this cell to enable.\n",
              "      </output>\n",
              "      <script src=\"/nbextensions/google.colab/files.js\"></script> "
            ]
          },
          "metadata": {}
        },
        {
          "output_type": "stream",
          "name": "stdout",
          "text": [
            "Saving spark_nlp_for_healthcare_spark_ocr_4790.json to spark_nlp_for_healthcare_spark_ocr_4790.json\n"
          ]
        }
      ],
      "source": [
        "import json\n",
        "import os\n",
        "\n",
        "from google.colab import files\n",
        "\n",
        "license_keys = files.upload()\n",
        "\n",
        "with open(list(license_keys.keys())[0]) as f:\n",
        "    license_keys = json.load(f)\n",
        "\n",
        "# Defining license key-value pairs as local variables\n",
        "locals().update(license_keys)\n",
        "\n",
        "# Adding license key-value pairs to environment variables\n",
        "os.environ.update(license_keys)"
      ]
    },
    {
      "cell_type": "code",
      "source": [
        "# Installing pyspark and spark-nlp\n",
        "! pip install --upgrade -q pyspark==3.1.2 spark-nlp==$PUBLIC_VERSION\n",
        "\n",
        "# Installing Spark NLP Healthcare\n",
        "! pip install --upgrade -q spark-nlp-jsl==$JSL_VERSION  --extra-index-url https://pypi.johnsnowlabs.com/$SECRET\n",
        "\n",
        "# Installing Spark NLP Display Library for visualization\n",
        "! pip install -q spark-nlp-display"
      ],
      "metadata": {
        "colab": {
          "base_uri": "https://localhost:8080/"
        },
        "id": "gKXIfLCDmqvG",
        "outputId": "22e79247-571c-4579-d85a-fdf0360aab75"
      },
      "execution_count": null,
      "outputs": [
        {
          "output_type": "stream",
          "name": "stdout",
          "text": [
            "\u001b[K     |████████████████████████████████| 212.4 MB 64 kB/s \n",
            "\u001b[K     |████████████████████████████████| 142 kB 20.3 MB/s \n",
            "\u001b[K     |████████████████████████████████| 198 kB 70.2 MB/s \n",
            "\u001b[?25h  Building wheel for pyspark (setup.py) ... \u001b[?25l\u001b[?25hdone\n",
            "\u001b[K     |████████████████████████████████| 188 kB 7.6 MB/s \n",
            "\u001b[K     |████████████████████████████████| 95 kB 2.9 MB/s \n",
            "\u001b[K     |████████████████████████████████| 66 kB 5.0 MB/s \n",
            "\u001b[?25h"
          ]
        }
      ]
    },
    {
      "cell_type": "code",
      "source": [
        "import pandas as pd\n",
        "from pyspark.ml import Pipeline\n",
        "from pyspark.sql import SparkSession\n",
        "import pyspark.sql.functions as F\n",
        "\n",
        "import sparknlp\n",
        "from sparknlp.annotator import *\n",
        "from sparknlp_jsl.annotator import *\n",
        "from sparknlp.base import *\n",
        "import sparknlp_jsl\n",
        "\n",
        "spark = sparknlp_jsl.start(license_keys['SECRET'])\n",
        "\n",
        "# manually start session\n",
        "# params = {\"spark.driver.memory\" : \"16G\",\n",
        "#           \"spark.kryoserializer.buffer.max\" : \"2000M\",\n",
        "#           \"spark.driver.maxResultSize\" : \"2000M\"}\n",
        "\n",
        "# spark = sparknlp_jsl.start(license_keys['SECRET'],params=params)"
      ],
      "metadata": {
        "id": "8jyS1U-1m8zs"
      },
      "execution_count": null,
      "outputs": []
    },
    {
      "cell_type": "code",
      "source": [
        "spark"
      ],
      "metadata": {
        "colab": {
          "base_uri": "https://localhost:8080/"
        },
        "id": "kvgfW_aEFf8G",
        "outputId": "572006de-7bc5-48d6-f17e-4b51130018d7"
      },
      "execution_count": null,
      "outputs": [
        {
          "output_type": "execute_result",
          "data": {
            "text/plain": [
              "<pyspark.sql.session.SparkSession at 0x7fb4a975cad0>"
            ],
            "text/html": [
              "\n",
              "            <div>\n",
              "                <p><b>SparkSession - in-memory</b></p>\n",
              "                \n",
              "        <div>\n",
              "            <p><b>SparkContext</b></p>\n",
              "\n",
              "            <p><a href=\"http://bdad3f521069:4040\">Spark UI</a></p>\n",
              "\n",
              "            <dl>\n",
              "              <dt>Version</dt>\n",
              "                <dd><code>v3.1.2</code></dd>\n",
              "              <dt>Master</dt>\n",
              "                <dd><code>local[*]</code></dd>\n",
              "              <dt>AppName</dt>\n",
              "                <dd><code>Spark NLP Licensed</code></dd>\n",
              "            </dl>\n",
              "        </div>\n",
              "        \n",
              "            </div>\n",
              "        "
            ]
          },
          "metadata": {},
          "execution_count": 4
        }
      ]
    },
    {
      "cell_type": "code",
      "source": [
        "sample_text = \"\"\"A 28-year-old female with a history of gestational diabetes mellitus diagnosed eight years prior to \n",
        "presentation and subsequent type two diabetes mellitus ( T2DM ), one prior episode of HTG-induced pancreatitis \n",
        "three years prior to presentation , associated with an acute hepatitis , and obesity with a body mass index \n",
        "( BMI ) of 33.5 kg/m2 , presented with a one-week history of polyuria , polydipsia , poor appetite , and vomiting.\n",
        "Two weeks prior to presentation , she was treated with a five-day course of amoxicillin for a respiratory tract infection . \n",
        "She was on metformin , glipizide , and dapagliflozin for T2DM and atorvastatin and gemfibrozil for HTG . \n",
        "She had been on dapagliflozin for six months at the time of presentation . Physical examination on presentation was \n",
        "significant for dry oral mucosa ; significantly , her abdominal examination was benign with no tenderness , guarding , \n",
        "or rigidity . Pertinent laboratory findings on admission were : serum glucose 111 mg/dl , bicarbonate 18 mmol/l , \n",
        "anion gap 20 , creatinine 0.4 mg/dL , triglycerides 508 mg/dL , total cholesterol 122 mg/dL , glycated hemoglobin \n",
        "( HbA1c ) 10% , and venous pH 7.27 . Serum lipase was normal at 43 U/L . Serum acetone levels could not be assessed \n",
        "as blood samples kept hemolyzing due to significant lipemia .\n",
        "The patient was initially admitted for starvation ketosis , as she reported poor oral intake for three days prior \n",
        "to admission . However , serum chemistry obtained six hours after presentation revealed her glucose was 186 mg/dL , \n",
        "the anion gap was still elevated at 21 , serum bicarbonate was 16 mmol/L , triglyceride level peaked at 2050 mg/dL , \n",
        "and lipase was 52 U/L .\n",
        " β-hydroxybutyrate level was obtained and found to be elevated at 5.29 mmol/L - the original sample was centrifuged \n",
        " and the chylomicron layer removed prior to analysis due to interference from turbidity caused by lipemia again . \n",
        " The patient was treated with an insulin drip for euDKA and HTG with a reduction in the anion gap to 13 and triglycerides \n",
        " to 1400 mg/dL , within 24 hours .\n",
        " Twenty days ago.\n",
        " Her euDKA was thought to be precipitated by her respiratory tract infection in the setting of SGLT2 inhibitor use . \n",
        " At birth the typical boy is growing slightly faster than the typical girl, but the velocities become equal at about \n",
        " seven months, and then the girl grows faster until four years. \n",
        " From then until adolescence no differences in velocity \n",
        " can be detected. 21-02-2020 \n",
        "21/04/2020\n",
        "\"\"\"\n",
        "data = spark.createDataFrame([[sample_text]]).toDF(\"text\").cache()\n",
        "\n",
        "data.show(truncate = 100)"
      ],
      "metadata": {
        "colab": {
          "base_uri": "https://localhost:8080/"
        },
        "id": "XDD4BkdCF8Wx",
        "outputId": "a9e83c13-869d-4c5f-9e65-c57361db6eaa"
      },
      "execution_count": null,
      "outputs": [
        {
          "output_type": "stream",
          "name": "stdout",
          "text": [
            "+----------------------------------------------------------------------------------------------------+\n",
            "|                                                                                                text|\n",
            "+----------------------------------------------------------------------------------------------------+\n",
            "|A 28-year-old female with a history of gestational diabetes mellitus diagnosed eight years prior ...|\n",
            "+----------------------------------------------------------------------------------------------------+\n",
            "\n"
          ]
        }
      ]
    },
    {
      "cell_type": "markdown",
      "source": [
        "### Rules"
      ],
      "metadata": {
        "id": "ta002VzeGz0J"
      }
    },
    {
      "cell_type": "code",
      "source": [
        "!mkdir data"
      ],
      "metadata": {
        "id": "B4aaJKLuF95P"
      },
      "execution_count": null,
      "outputs": []
    },
    {
      "cell_type": "code",
      "source": [
        "gender = '''male,man,male,boy,gentleman,he,him\n",
        "female,woman,female,girl,lady,old-lady,she,her\n",
        "neutral,neutral'''\n",
        "\n",
        "with open('data/gender.csv', 'w') as f:\n",
        "    f.write(gender)\n",
        "\n",
        "\n",
        "gender = {\n",
        "  \"entity\": \"Gender\",\n",
        "  \"ruleScope\": \"sentence\", \n",
        "  \"completeMatchRegex\": \"true\"\n",
        "}\n",
        "\n",
        "import json\n",
        "\n",
        "with open('data/gender.json', 'w') as f:\n",
        "    json.dump(gender, f)\n",
        "\n",
        "\n",
        "date = {\n",
        "  \"entity\": \"Date \",\n",
        "  \"ruleScope\": \"sentence\",\n",
        "  \"regex\": \"\\\\d{1,2}[\\\\/\\\\-\\\\:]{1}(\\\\d{1,2}[\\\\/\\\\-\\\\:]{1}){0,1}\\\\d{2,4}\",\n",
        "  \"valuesDefinition\":[],\n",
        "  \"prefix\": [],\n",
        "  \"suffix\": [],\n",
        "  \"contextLength\": 150,\n",
        "  \"context\": []\n",
        "}\n",
        "\n",
        "with open('data/date.json', 'w') as f:\n",
        "    json.dump(date, f)\n",
        "\n",
        "\n",
        "age = {\n",
        "  \"entity\": \"Age\",\n",
        "  \"ruleScope\": \"sentence\",\n",
        "   \"matchScope\":\"token\",\n",
        "  \"regex\":\"\\\\s*(0?[1-9]|[1-9][0-9]|[1][1-9][1-9]|200){1,2}[\\\\s-,]+|(?i)\\\\b(?:zero|ten|eleven|twelve|thirteen|fourteen|fifteen|sixteen|seventeen|eighteen|nineteen|twenty)\\\\b(?=\\\\s*year)|\\\\b(?:(?:one|two|three|four|five|six|seven|eight|nine)? hundred(?:\\\\sand)?\\\\s)?(?:(?:twenty|thirty|forty|fifty|sixty|seventy|eighty|ninety)[\\\\s-]?)?\\\\b(?:one|two|three|four|five|six|seven|eight|nine)?(?=\\\\syear)\",\n",
        "  \"prefix\":[\"age of\"],\n",
        "  \"suffix\": [\"-years-old\",\n",
        "             \"years-old\",\n",
        "             \"-year-old\",\n",
        "             \"-months-old\",\n",
        "             \"-month-old\",\n",
        "             \"-months-old\",\n",
        "             \"-day-old\",\n",
        "             \"-days-old\",\n",
        "             \"month old\",\n",
        "             \"days old\",\n",
        "             \"year old\",\n",
        "             \"years old\", \n",
        "             \"years\",\n",
        "             \"year\", \n",
        "             \"months\", \n",
        "             \"old\"\n",
        "              ],\n",
        "  \"contextLength\": 25,\n",
        "  \"context\": [],\n",
        "  \"contextException\": [\"ago\"],\n",
        "  \"exceptionDistance\": 10\n",
        "}\n",
        "\n",
        "with open('data/age.json', 'w') as f:\n",
        "    json.dump(age, f)\n"
      ],
      "metadata": {
        "id": "MpoJ77EAG4KY"
      },
      "execution_count": 8,
      "outputs": []
    },
    {
      "cell_type": "markdown",
      "source": [
        "## Pipeline definition\n",
        "\n",
        "All rule files from the rule folder are added to the pipeline. They will generate different annotation labels that need to be consolidated. "
      ],
      "metadata": {
        "id": "dK0z3ikJxLE5"
      }
    },
    {
      "cell_type": "code",
      "source": [
        "document_assembler = DocumentAssembler() \\\n",
        "    .setInputCol(\"text\") \\\n",
        "    .setOutputCol(\"document\")\n",
        "\n",
        "sentence_detector = SentenceDetector() \\\n",
        "    .setInputCols([\"document\"]) \\\n",
        "    .setOutputCol(\"sentence\")\n",
        "\n",
        "tokenizer = Tokenizer() \\\n",
        "    .setInputCols([\"sentence\"]) \\\n",
        "    .setOutputCol(\"token\")\n"
      ],
      "metadata": {
        "id": "gmX3_nzUVcnV"
      },
      "execution_count": 9,
      "outputs": []
    },
    {
      "cell_type": "code",
      "source": [
        "!cd data && ls -lt"
      ],
      "metadata": {
        "colab": {
          "base_uri": "https://localhost:8080/"
        },
        "id": "hEmm2fhHxNoz",
        "outputId": "7515f3b7-ff8d-47f5-a433-7a0ef034caf3"
      },
      "execution_count": 10,
      "outputs": [
        {
          "output_type": "stream",
          "name": "stdout",
          "text": [
            "total 16\n",
            "-rw-r--r-- 1 root root 780 Apr 15 08:33 age.json\n",
            "-rw-r--r-- 1 root root 205 Apr 15 08:33 date.json\n",
            "-rw-r--r-- 1 root root  97 Apr 15 08:33 gender.csv\n",
            "-rw-r--r-- 1 root root  75 Apr 15 08:33 gender.json\n"
          ]
        }
      ]
    },
    {
      "cell_type": "code",
      "source": [
        "gender_contextual_parser = ContextualParserApproach() \\\n",
        "    .setInputCols([\"sentence\", \"token\"]) \\\n",
        "    .setOutputCol(\"entity_gender\") \\\n",
        "    .setCaseSensitive(True) \\\n",
        "    .setJsonPath(\"data/gender.json\") \\\n",
        "    .setPrefixAndSuffixMatch(True) \\\n",
        "    .setDictionary('data/gender.csv', read_as=ReadAs.TEXT, options={\"delimiter\":\",\"})\n",
        "    #.setDictionary(\"dictionary.tsv\", options={\"orientation\":\"vertical\"})"
      ],
      "metadata": {
        "id": "-mkYCwsmxyr3"
      },
      "execution_count": 24,
      "outputs": []
    },
    {
      "cell_type": "code",
      "source": [
        "age_contextual_parser = ContextualParserApproach() \\\n",
        "        .setInputCols([\"sentence\", \"token\"]) \\\n",
        "        .setOutputCol(\"entity_age\") \\\n",
        "        .setJsonPath(\"data/age.json\") \\\n",
        "        .setCaseSensitive(True) \\\n",
        "        .setPrefixAndSuffixMatch(True) \\"
      ],
      "metadata": {
        "id": "KsASr9Mx10a3"
      },
      "execution_count": 28,
      "outputs": []
    },
    {
      "cell_type": "code",
      "source": [
        "date_contextual_parser = ContextualParserApproach() \\\n",
        "        .setInputCols([\"sentence\", \"token\"]) \\\n",
        "        .setOutputCol(\"entity_date\") \\\n",
        "        .setJsonPath(\"data/date.json\") \\\n",
        "        .setCaseSensitive(True) \\\n",
        "        .setPrefixAndSuffixMatch(True) \\"
      ],
      "metadata": {
        "id": "ZVJRrK1s3yHo"
      },
      "execution_count": 30,
      "outputs": []
    },
    {
      "cell_type": "code",
      "source": [
        "parserPipeline = Pipeline(stages=[\n",
        "    document_assembler, \n",
        "    sentence_detector,\n",
        "    tokenizer,\n",
        "    gender_contextual_parser,\n",
        "    age_contextual_parser,\n",
        "    date_contextual_parser])\n",
        "\n",
        "empty_data = spark.createDataFrame([[\"\"]]).toDF(\"text\")\n",
        "\n",
        "parserModel = parserPipeline.fit(empty_data)\n",
        "\n",
        "light_model = LightPipeline(parserModel)"
      ],
      "metadata": {
        "id": "eVOUfJpm4Dek"
      },
      "execution_count": 31,
      "outputs": []
    },
    {
      "cell_type": "code",
      "source": [
        "annotations = light_model.fullAnnotate(sample_text)[0]\n",
        "annotations.keys()"
      ],
      "metadata": {
        "colab": {
          "base_uri": "https://localhost:8080/"
        },
        "id": "iSzcO6jS4Pr0",
        "outputId": "3b82af14-8a95-494d-9015-5d9d239d16a3"
      },
      "execution_count": 32,
      "outputs": [
        {
          "output_type": "execute_result",
          "data": {
            "text/plain": [
              "dict_keys(['document', 'entity_gender', 'token', 'entity_date', 'entity_age', 'sentence'])"
            ]
          },
          "metadata": {},
          "execution_count": 32
        }
      ]
    },
    {
      "cell_type": "code",
      "source": [
        "print (annotations['entity_gender'])\n",
        "print (annotations['entity_age'])\n",
        "print (annotations['entity_date'])"
      ],
      "metadata": {
        "colab": {
          "base_uri": "https://localhost:8080/"
        },
        "id": "yignzlC44V3_",
        "outputId": "e787f365-a252-4ff9-9d06-f42abe93ea86"
      },
      "execution_count": 33,
      "outputs": [
        {
          "output_type": "stream",
          "name": "stdout",
          "text": [
            "[Annotation(chunk, 14, 19, female, {'field': 'Gender', 'normalized': 'female', 'confidenceValue': '1.00', 'sentence': '0'}), Annotation(chunk, 471, 473, she, {'field': 'Gender', 'normalized': 'female', 'confidenceValue': '1.00', 'sentence': '1'}), Annotation(chunk, 835, 837, her, {'field': 'Gender', 'normalized': 'female', 'confidenceValue': '1.00', 'sentence': '5'}), Annotation(chunk, 1377, 1379, she, {'field': 'Gender', 'normalized': 'female', 'confidenceValue': '1.00', 'sentence': '9'}), Annotation(chunk, 1517, 1519, her, {'field': 'Gender', 'normalized': 'female', 'confidenceValue': '1.00', 'sentence': '10'}), Annotation(chunk, 2141, 2143, her, {'field': 'Gender', 'normalized': 'female', 'confidenceValue': '1.00', 'sentence': '14'}), Annotation(chunk, 2236, 2238, boy, {'field': 'Gender', 'normalized': 'male', 'confidenceValue': '1.00', 'sentence': '15'}), Annotation(chunk, 2284, 2287, girl, {'field': 'Gender', 'normalized': 'female', 'confidenceValue': '1.00', 'sentence': '15'}), Annotation(chunk, 2360, 2363, girl, {'field': 'Gender', 'normalized': 'female', 'confidenceValue': '1.00', 'sentence': '15'})]\n",
            "[]\n",
            "[Annotation(chunk, 2472, 2481, 21-02-2020, {'field': 'Date ', 'normalized': '', 'confidenceValue': '1.00', 'sentence': '17'}), Annotation(chunk, 2484, 2493, 21/04/2020, {'field': 'Date ', 'normalized': '', 'confidenceValue': '1.00', 'sentence': '17'})]\n"
          ]
        }
      ]
    },
    {
      "cell_type": "code",
      "source": [
        "import random\n",
        "\n",
        "def get_color():\n",
        "    r = lambda: random.randint(100,255)\n",
        "    return '#%02X%02X%02X' % (r(),r(),r())"
      ],
      "metadata": {
        "id": "A6KUH8UC4ZjG"
      },
      "execution_count": 34,
      "outputs": []
    },
    {
      "cell_type": "code",
      "source": [
        "get_color()"
      ],
      "metadata": {
        "colab": {
          "base_uri": "https://localhost:8080/",
          "height": 35
        },
        "id": "o9GvIqMk5RbF",
        "outputId": "99629253-c531-47c0-afe9-0370d2ad0aa8"
      },
      "execution_count": 36,
      "outputs": [
        {
          "output_type": "execute_result",
          "data": {
            "text/plain": [
              "'#93DCEC'"
            ],
            "application/vnd.google.colaboratory.intrinsic+json": {
              "type": "string"
            }
          },
          "metadata": {},
          "execution_count": 36
        }
      ]
    },
    {
      "cell_type": "code",
      "source": [
        "ner_chunks = []\n",
        "label_color = {}\n",
        "unified_entities = {'entity':[]}\n",
        "for ent_name in annotations.keys():\n",
        "    if \"entity\" in ent_name and len(annotations[ent_name])>0:\n",
        "        ner_chunks.append(ent_name)\n",
        "        label = annotations[ent_name][0].metadata['field']\n",
        "        label_color[label] = get_color()\n",
        "        unified_entities['entity'].extend(annotations[ent_name])"
      ],
      "metadata": {
        "id": "DaJmctQ25ULI"
      },
      "execution_count": 37,
      "outputs": []
    },
    {
      "cell_type": "code",
      "source": [
        "unified_entities['entity'].sort(key=lambda x: x.begin, reverse=False)"
      ],
      "metadata": {
        "id": "7LjaxNuo7Ng0"
      },
      "execution_count": 38,
      "outputs": []
    },
    {
      "cell_type": "code",
      "source": [
        "unified_entities['entity']"
      ],
      "metadata": {
        "colab": {
          "base_uri": "https://localhost:8080/"
        },
        "id": "NCvm1wIg7SHT",
        "outputId": "c7be6f2d-957a-413a-8de6-c878b3773111"
      },
      "execution_count": 39,
      "outputs": [
        {
          "output_type": "execute_result",
          "data": {
            "text/plain": [
              "[Annotation(chunk, 14, 19, female, {'field': 'Gender', 'normalized': 'female', 'confidenceValue': '1.00', 'sentence': '0'}),\n",
              " Annotation(chunk, 471, 473, she, {'field': 'Gender', 'normalized': 'female', 'confidenceValue': '1.00', 'sentence': '1'}),\n",
              " Annotation(chunk, 835, 837, her, {'field': 'Gender', 'normalized': 'female', 'confidenceValue': '1.00', 'sentence': '5'}),\n",
              " Annotation(chunk, 1377, 1379, she, {'field': 'Gender', 'normalized': 'female', 'confidenceValue': '1.00', 'sentence': '9'}),\n",
              " Annotation(chunk, 1517, 1519, her, {'field': 'Gender', 'normalized': 'female', 'confidenceValue': '1.00', 'sentence': '10'}),\n",
              " Annotation(chunk, 2141, 2143, her, {'field': 'Gender', 'normalized': 'female', 'confidenceValue': '1.00', 'sentence': '14'}),\n",
              " Annotation(chunk, 2236, 2238, boy, {'field': 'Gender', 'normalized': 'male', 'confidenceValue': '1.00', 'sentence': '15'}),\n",
              " Annotation(chunk, 2284, 2287, girl, {'field': 'Gender', 'normalized': 'female', 'confidenceValue': '1.00', 'sentence': '15'}),\n",
              " Annotation(chunk, 2360, 2363, girl, {'field': 'Gender', 'normalized': 'female', 'confidenceValue': '1.00', 'sentence': '15'}),\n",
              " Annotation(chunk, 2472, 2481, 21-02-2020, {'field': 'Date ', 'normalized': '', 'confidenceValue': '1.00', 'sentence': '17'}),\n",
              " Annotation(chunk, 2484, 2493, 21/04/2020, {'field': 'Date ', 'normalized': '', 'confidenceValue': '1.00', 'sentence': '17'})]"
            ]
          },
          "metadata": {},
          "execution_count": 39
        }
      ]
    },
    {
      "cell_type": "markdown",
      "source": [
        "### Highlighting the entites with html"
      ],
      "metadata": {
        "id": "fApp5cPb8rSI"
      }
    },
    {
      "cell_type": "code",
      "source": [
        "html_output = ''\n",
        "pos = 0\n",
        "\n",
        "for n in unified_entities['entity']:\n",
        "    if pos < n.begin and pos < len(sample_text):\n",
        "        white_text = sample_text[pos:n.begin]\n",
        "        html_output += '<span class=\"others\" style=\"background-color: white\">{}</span>'.format(white_text)\n",
        "    pos = n.end+1\n",
        "    html_output += '<span class=\"entity-wrapper\" style=\"background-color: {}\"><span class=\"entity-name\">{} </span><span class=\"entity-type\">[{}]</span></span>'.format(\n",
        "        label_color[n.metadata['field']],\n",
        "        n.result,\n",
        "        n.metadata['field'])\n",
        "\n",
        "if pos < len(sample_text):\n",
        "    html_output += '<span class=\"others\" style=\"background-color: white\">{}</span>'.format(sample_text[pos:])\n",
        "\n",
        "html_output += \"\"\"</div>\"\"\""
      ],
      "metadata": {
        "id": "REJSXe9G7V0K"
      },
      "execution_count": 40,
      "outputs": []
    },
    {
      "cell_type": "code",
      "source": [
        "from IPython.display import HTML\n",
        "\n",
        "HTML(html_output)"
      ],
      "metadata": {
        "colab": {
          "base_uri": "https://localhost:8080/",
          "height": 312
        },
        "id": "O4rbQLID82PH",
        "outputId": "528fcb24-8077-48f0-d918-bc8d0bdaa44f"
      },
      "execution_count": 41,
      "outputs": [
        {
          "output_type": "execute_result",
          "data": {
            "text/plain": [
              "<IPython.core.display.HTML object>"
            ],
            "text/html": [
              "<span class=\"others\" style=\"background-color: white\">A 28-year-old </span><span class=\"entity-wrapper\" style=\"background-color: #CEAEF0\"><span class=\"entity-name\">female </span><span class=\"entity-type\">[Gender]</span></span><span class=\"others\" style=\"background-color: white\"> with a history of gestational diabetes mellitus diagnosed eight years prior to \n",
              "presentation and subsequent type two diabetes mellitus ( T2DM ), one prior episode of HTG-induced pancreatitis \n",
              "three years prior to presentation , associated with an acute hepatitis , and obesity with a body mass index \n",
              "( BMI ) of 33.5 kg/m2 , presented with a one-week history of polyuria , polydipsia , poor appetite , and vomiting.\n",
              "Two weeks prior to presentation , </span><span class=\"entity-wrapper\" style=\"background-color: #CEAEF0\"><span class=\"entity-name\">she </span><span class=\"entity-type\">[Gender]</span></span><span class=\"others\" style=\"background-color: white\"> was treated with a five-day course of amoxicillin for a respiratory tract infection . \n",
              "She was on metformin , glipizide , and dapagliflozin for T2DM and atorvastatin and gemfibrozil for HTG . \n",
              "She had been on dapagliflozin for six months at the time of presentation . Physical examination on presentation was \n",
              "significant for dry oral mucosa ; significantly , </span><span class=\"entity-wrapper\" style=\"background-color: #CEAEF0\"><span class=\"entity-name\">her </span><span class=\"entity-type\">[Gender]</span></span><span class=\"others\" style=\"background-color: white\"> abdominal examination was benign with no tenderness , guarding , \n",
              "or rigidity . Pertinent laboratory findings on admission were : serum glucose 111 mg/dl , bicarbonate 18 mmol/l , \n",
              "anion gap 20 , creatinine 0.4 mg/dL , triglycerides 508 mg/dL , total cholesterol 122 mg/dL , glycated hemoglobin \n",
              "( HbA1c ) 10% , and venous pH 7.27 . Serum lipase was normal at 43 U/L . Serum acetone levels could not be assessed \n",
              "as blood samples kept hemolyzing due to significant lipemia .\n",
              "The patient was initially admitted for starvation ketosis , as </span><span class=\"entity-wrapper\" style=\"background-color: #CEAEF0\"><span class=\"entity-name\">she </span><span class=\"entity-type\">[Gender]</span></span><span class=\"others\" style=\"background-color: white\"> reported poor oral intake for three days prior \n",
              "to admission . However , serum chemistry obtained six hours after presentation revealed </span><span class=\"entity-wrapper\" style=\"background-color: #CEAEF0\"><span class=\"entity-name\">her </span><span class=\"entity-type\">[Gender]</span></span><span class=\"others\" style=\"background-color: white\"> glucose was 186 mg/dL , \n",
              "the anion gap was still elevated at 21 , serum bicarbonate was 16 mmol/L , triglyceride level peaked at 2050 mg/dL , \n",
              "and lipase was 52 U/L .\n",
              " β-hydroxybutyrate level was obtained and found to be elevated at 5.29 mmol/L - the original sample was centrifuged \n",
              " and the chylomicron layer removed prior to analysis due to interference from turbidity caused by lipemia again . \n",
              " The patient was treated with an insulin drip for euDKA and HTG with a reduction in the anion gap to 13 and triglycerides \n",
              " to 1400 mg/dL , within 24 hours .\n",
              " Twenty days ago.\n",
              " Her euDKA was thought to be precipitated by </span><span class=\"entity-wrapper\" style=\"background-color: #CEAEF0\"><span class=\"entity-name\">her </span><span class=\"entity-type\">[Gender]</span></span><span class=\"others\" style=\"background-color: white\"> respiratory tract infection in the setting of SGLT2 inhibitor use . \n",
              " At birth the typical </span><span class=\"entity-wrapper\" style=\"background-color: #CEAEF0\"><span class=\"entity-name\">boy </span><span class=\"entity-type\">[Gender]</span></span><span class=\"others\" style=\"background-color: white\"> is growing slightly faster than the typical </span><span class=\"entity-wrapper\" style=\"background-color: #CEAEF0\"><span class=\"entity-name\">girl </span><span class=\"entity-type\">[Gender]</span></span><span class=\"others\" style=\"background-color: white\">, but the velocities become equal at about \n",
              " seven months, and then the </span><span class=\"entity-wrapper\" style=\"background-color: #CEAEF0\"><span class=\"entity-name\">girl </span><span class=\"entity-type\">[Gender]</span></span><span class=\"others\" style=\"background-color: white\"> grows faster until four years. \n",
              " From then until adolescence no differences in velocity \n",
              " can be detected. </span><span class=\"entity-wrapper\" style=\"background-color: #95FBA3\"><span class=\"entity-name\">21-02-2020 </span><span class=\"entity-type\">[Date ]</span></span><span class=\"others\" style=\"background-color: white\"> \n",
              "</span><span class=\"entity-wrapper\" style=\"background-color: #95FBA3\"><span class=\"entity-name\">21/04/2020 </span><span class=\"entity-type\">[Date ]</span></span><span class=\"others\" style=\"background-color: white\">\n",
              "</span></div>"
            ]
          },
          "metadata": {},
          "execution_count": 41
        }
      ]
    },
    {
      "cell_type": "code",
      "source": [
        ""
      ],
      "metadata": {
        "id": "DdEbSbmn84sd"
      },
      "execution_count": null,
      "outputs": []
    }
  ]
}