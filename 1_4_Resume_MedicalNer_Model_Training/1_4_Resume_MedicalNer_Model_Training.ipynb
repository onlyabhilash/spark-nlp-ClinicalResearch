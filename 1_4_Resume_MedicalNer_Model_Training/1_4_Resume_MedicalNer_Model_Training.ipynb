{
  "nbformat": 4,
  "nbformat_minor": 0,
  "metadata": {
    "colab": {
      "name": "1.4.Resume_MedicalNer_Model_Training.ipynb",
      "provenance": [],
      "collapsed_sections": [],
      "machine_shape": "hm",
      "include_colab_link": true
    },
    "kernelspec": {
      "display_name": "Python 3",
      "language": "python",
      "name": "python3"
    },
    "language_info": {
      "codemirror_mode": {
        "name": "ipython",
        "version": 3
      },
      "file_extension": ".py",
      "mimetype": "text/x-python",
      "name": "python",
      "nbconvert_exporter": "python",
      "pygments_lexer": "ipython3",
      "version": "3.7.6"
    }
  },
  "cells": [
    {
      "cell_type": "markdown",
      "metadata": {
        "id": "view-in-github",
        "colab_type": "text"
      },
      "source": [
        "<a href=\"https://colab.research.google.com/github/onlyabhilash/spark-nlp-ClinicalResearch/blob/main/1_4_Resume_MedicalNer_Model_Training/1_4_Resume_MedicalNer_Model_Training.ipynb\" target=\"_parent\"><img src=\"https://colab.research.google.com/assets/colab-badge.svg\" alt=\"Open In Colab\"/></a>"
      ]
    },
    {
      "cell_type": "markdown",
      "metadata": {
        "id": "FwJ-P56kq6FU"
      },
      "source": [
        "[![Open In Colab](https://colab.research.google.com/assets/colab-badge.svg)](https://colab.research.google.com/github/JohnSnowLabs/spark-nlp-workshop/blob/master/tutorials/Certification_Trainings/Healthcare/1.4.Resume_MedicalNer_Model_Training.ipynb)"
      ]
    },
    {
      "cell_type": "markdown",
      "metadata": {
        "id": "7ztGkR5mb6zN"
      },
      "source": [
        "# 1.4 Resume MedicalNer Model Training\n",
        "\n",
        "Steps:\n",
        "- Train a new model for a few epochs.\n",
        "- Load the same model and train for more epochs on the same taxnonomy, and check stats.\n",
        "- Train a model already trained on a different data"
      ]
    },
    {
      "cell_type": "markdown",
      "metadata": {
        "id": "-68NMdHxJIco"
      },
      "source": [
        "## Colab Setup"
      ]
    },
    {
      "cell_type": "code",
      "metadata": {
        "id": "h9Mn1PNTNJTq",
        "colab": {
          "resources": {
            "http://localhost:8080/nbextensions/google.colab/files.js": {
              "data": "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",
              "ok": true,
              "headers": [
                [
                  "content-type",
                  "application/javascript"
                ]
              ],
              "status": 200,
              "status_text": ""
            }
          },
          "base_uri": "https://localhost:8080/",
          "height": 73
        },
        "outputId": "69bda458-abda-4785-f05f-a9b465b46df2"
      },
      "source": [
        "import json\n",
        "import os\n",
        "\n",
        "from google.colab import files\n",
        "\n",
        "if 'spark_jsl.json' not in os.listdir():\n",
        "  license_keys = files.upload()\n",
        "  os.rename(list(license_keys.keys())[0], 'spark_jsl.json')\n",
        "\n",
        "with open('spark_jsl.json') as f:\n",
        "    license_keys = json.load(f)\n",
        "\n",
        "# Defining license key-value pairs as local variables\n",
        "locals().update(license_keys)\n",
        "os.environ.update(license_keys)"
      ],
      "execution_count": 1,
      "outputs": [
        {
          "output_type": "display_data",
          "data": {
            "text/plain": [
              "<IPython.core.display.HTML object>"
            ],
            "text/html": [
              "\n",
              "     <input type=\"file\" id=\"files-1b65638f-4308-47b6-bcf8-aef49a1272ee\" name=\"files[]\" multiple disabled\n",
              "        style=\"border:none\" />\n",
              "     <output id=\"result-1b65638f-4308-47b6-bcf8-aef49a1272ee\">\n",
              "      Upload widget is only available when the cell has been executed in the\n",
              "      current browser session. Please rerun this cell to enable.\n",
              "      </output>\n",
              "      <script src=\"/nbextensions/google.colab/files.js\"></script> "
            ]
          },
          "metadata": {}
        },
        {
          "output_type": "stream",
          "name": "stdout",
          "text": [
            "Saving spark_nlp_for_healthcare_spark_ocr_4790.json to spark_nlp_for_healthcare_spark_ocr_4790.json\n"
          ]
        }
      ]
    },
    {
      "cell_type": "code",
      "metadata": {
        "id": "yvHraBK7b-LU",
        "colab": {
          "base_uri": "https://localhost:8080/"
        },
        "outputId": "697403f1-906e-447f-8b27-f08f63906348"
      },
      "source": [
        "# Installing pyspark and spark-nlp\n",
        "! pip install --upgrade -q pyspark==3.1.2 spark-nlp==$PUBLIC_VERSION\n",
        "\n",
        "# Installing Spark NLP Healthcare\n",
        "! pip install --upgrade -q spark-nlp-jsl==$JSL_VERSION  --extra-index-url https://pypi.johnsnowlabs.com/$SECRET\n",
        "\n",
        "# Installing Spark NLP Display Library for visualization\n",
        "! pip install -q spark-nlp-display"
      ],
      "execution_count": 2,
      "outputs": [
        {
          "output_type": "stream",
          "name": "stdout",
          "text": [
            "\u001b[K     |████████████████████████████████| 212.4 MB 35 kB/s \n",
            "\u001b[K     |████████████████████████████████| 142 kB 6.2 MB/s \n",
            "\u001b[K     |████████████████████████████████| 198 kB 43.9 MB/s \n",
            "\u001b[?25h  Building wheel for pyspark (setup.py) ... \u001b[?25l\u001b[?25hdone\n",
            "\u001b[K     |████████████████████████████████| 188 kB 530 kB/s \n",
            "\u001b[K     |████████████████████████████████| 95 kB 2.0 MB/s \n",
            "\u001b[K     |████████████████████████████████| 66 kB 2.4 MB/s \n",
            "\u001b[?25h"
          ]
        }
      ]
    },
    {
      "cell_type": "code",
      "metadata": {
        "id": "wIp1yLCWNWsn"
      },
      "source": [
        "# if you want to start the session with custom params as in start function above\n",
        "from pyspark.sql import SparkSession\n",
        "\n",
        "def start(SECRET):\n",
        "    builder = SparkSession.builder \\\n",
        "        .appName(\"Spark NLP Licensed\") \\\n",
        "        .master(\"local[*]\") \\\n",
        "        .config(\"spark.driver.memory\", \"16G\") \\\n",
        "        .config(\"spark.serializer\", \"org.apache.spark.serializer.KryoSerializer\") \\\n",
        "        .config(\"spark.kryoserializer.buffer.max\", \"2000M\") \\\n",
        "        .config(\"spark.jars.packages\", \"com.johnsnowlabs.nlp:spark-nlp_2.12:\"+PUBLIC_VERSION) \\\n",
        "        .config(\"spark.jars\", \"https://pypi.johnsnowlabs.com/\"+SECRET+\"/spark-nlp-jsl-\"+JSL_VERSION+\".jar\")\n",
        "      \n",
        "    return builder.getOrCreate()\n",
        "\n",
        "#spark = start(SECRET)"
      ],
      "execution_count": 3,
      "outputs": []
    },
    {
      "cell_type": "code",
      "metadata": {
        "colab": {
          "base_uri": "https://localhost:8080/",
          "height": 254
        },
        "id": "1t5Kp93GcH7z",
        "outputId": "023d257c-5f40-403f-f13e-4b59e8ec0dcf"
      },
      "source": [
        "import json\n",
        "import os\n",
        "\n",
        "from pyspark.ml import Pipeline,PipelineModel\n",
        "from pyspark.sql import SparkSession\n",
        "\n",
        "import sparknlp_jsl\n",
        "import sparknlp\n",
        "\n",
        "from sparknlp.annotator import *\n",
        "from sparknlp_jsl.annotator import *\n",
        "from sparknlp.base import *\n",
        "\n",
        "\n",
        "import warnings\n",
        "warnings.filterwarnings('ignore')\n",
        "\n",
        "params = {\"spark.driver.memory\":\"16G\", # Amount of memory to use for the driver process, i.e. where SparkContext is initialized\n",
        "          \"spark.kryoserializer.buffer.max\":\"2000M\", # Maximum allowable size of Kryo serialization buffer, in MiB unless otherwise specified. \n",
        "          \"spark.driver.maxResultSize\":\"2000M\"} # Limit of total size of serialized results of all partitions for each Spark action (e.g. collect) in bytes. \n",
        "                                                # Should be at least 1M, or 0 for unlimited. \n",
        "\n",
        "spark = sparknlp_jsl.start(license_keys['SECRET'],params=params)\n",
        "\n",
        "print (\"Spark NLP Version :\", sparknlp.version())\n",
        "print (\"Spark NLP_JSL Version :\", sparknlp_jsl.version())\n",
        "\n",
        "spark"
      ],
      "execution_count": 4,
      "outputs": [
        {
          "output_type": "stream",
          "name": "stdout",
          "text": [
            "Spark NLP Version : 3.4.2\n",
            "Spark NLP_JSL Version : 3.5.0\n"
          ]
        },
        {
          "output_type": "execute_result",
          "data": {
            "text/plain": [
              "<pyspark.sql.session.SparkSession at 0x7f1464c71350>"
            ],
            "text/html": [
              "\n",
              "            <div>\n",
              "                <p><b>SparkSession - in-memory</b></p>\n",
              "                \n",
              "        <div>\n",
              "            <p><b>SparkContext</b></p>\n",
              "\n",
              "            <p><a href=\"http://f7884116d753:4040\">Spark UI</a></p>\n",
              "\n",
              "            <dl>\n",
              "              <dt>Version</dt>\n",
              "                <dd><code>v3.1.2</code></dd>\n",
              "              <dt>Master</dt>\n",
              "                <dd><code>local[*]</code></dd>\n",
              "              <dt>AppName</dt>\n",
              "                <dd><code>Spark NLP Licensed</code></dd>\n",
              "            </dl>\n",
              "        </div>\n",
              "        \n",
              "            </div>\n",
              "        "
            ]
          },
          "metadata": {},
          "execution_count": 4
        }
      ]
    },
    {
      "cell_type": "markdown",
      "metadata": {
        "id": "PeWhvSsHRXsf"
      },
      "source": [
        "## Download Clinical Word Embeddings for training"
      ]
    },
    {
      "cell_type": "code",
      "metadata": {
        "colab": {
          "base_uri": "https://localhost:8080/"
        },
        "id": "Ua5dHNeyRWQc",
        "outputId": "079dc111-a8bf-47d5-8974-d139cc9eee58"
      },
      "source": [
        "clinical_embeddings = WordEmbeddingsModel.pretrained('embeddings_clinical', \"en\", \"clinical/models\")\\\n",
        "    .setInputCols([\"sentence\", \"token\"])\\\n",
        "    .setOutputCol(\"embeddings\")"
      ],
      "execution_count": 5,
      "outputs": [
        {
          "output_type": "stream",
          "name": "stdout",
          "text": [
            "embeddings_clinical download started this may take some time.\n",
            "Approximate size to download 1.6 GB\n",
            "[OK!]\n"
          ]
        }
      ]
    },
    {
      "cell_type": "markdown",
      "metadata": {
        "id": "bfT1AaKvOG4J"
      },
      "source": [
        "## Download Data for Training (NCBI Disease Dataset)"
      ]
    },
    {
      "cell_type": "code",
      "metadata": {
        "id": "KMOycTPUcty7"
      },
      "source": [
        "!wget -q https://raw.githubusercontent.com/JohnSnowLabs/spark-nlp-workshop/master/tutorials/Certification_Trainings/Healthcare/data/NCBI_disease_official_test.conll\n",
        "!wget -q https://raw.githubusercontent.com/JohnSnowLabs/spark-nlp-workshop/master/tutorials/Certification_Trainings/Healthcare/data/NCBI_disease_official_train_dev.conll"
      ],
      "execution_count": 6,
      "outputs": []
    },
    {
      "cell_type": "code",
      "metadata": {
        "colab": {
          "base_uri": "https://localhost:8080/"
        },
        "id": "FetZIfagc-eh",
        "outputId": "c0b726c6-e56d-45e6-9004-4b17e4ca13ee"
      },
      "source": [
        "from sparknlp.training import CoNLL\n",
        "\n",
        "training_data = CoNLL().readDataset(spark, 'NCBI_disease_official_train_dev.conll')\n",
        "\n",
        "training_data.show(3)"
      ],
      "execution_count": 7,
      "outputs": [
        {
          "output_type": "stream",
          "name": "stdout",
          "text": [
            "+--------------------+--------------------+--------------------+--------------------+--------------------+--------------------+\n",
            "|                text|            document|            sentence|               token|                 pos|               label|\n",
            "+--------------------+--------------------+--------------------+--------------------+--------------------+--------------------+\n",
            "|Identification of...|[{document, 0, 89...|[{document, 0, 89...|[{token, 0, 13, I...|[{pos, 0, 13, NN,...|[{named_entity, 0...|\n",
            "|The adenomatous p...|[{document, 0, 21...|[{document, 0, 21...|[{token, 0, 2, Th...|[{pos, 0, 2, NN, ...|[{named_entity, 0...|\n",
            "|Complex formation...|[{document, 0, 63...|[{document, 0, 63...|[{token, 0, 6, Co...|[{pos, 0, 6, NN, ...|[{named_entity, 0...|\n",
            "+--------------------+--------------------+--------------------+--------------------+--------------------+--------------------+\n",
            "only showing top 3 rows\n",
            "\n"
          ]
        }
      ]
    },
    {
      "cell_type": "code",
      "metadata": {
        "colab": {
          "base_uri": "https://localhost:8080/"
        },
        "id": "Fm1bfPJidC9X",
        "outputId": "519b2544-d16d-4e7c-88d6-5740866a63e3"
      },
      "source": [
        "from sparknlp.training import CoNLL\n",
        "\n",
        "test_data = CoNLL().readDataset(spark, 'NCBI_disease_official_test.conll')\n",
        "\n",
        "test_data.show(3)"
      ],
      "execution_count": 8,
      "outputs": [
        {
          "output_type": "stream",
          "name": "stdout",
          "text": [
            "+--------------------+--------------------+--------------------+--------------------+--------------------+--------------------+\n",
            "|                text|            document|            sentence|               token|                 pos|               label|\n",
            "+--------------------+--------------------+--------------------+--------------------+--------------------+--------------------+\n",
            "|Clustering of mis...|[{document, 0, 10...|[{document, 0, 10...|[{token, 0, 9, Cl...|[{pos, 0, 9, NN, ...|[{named_entity, 0...|\n",
            "|Ataxia - telangie...|[{document, 0, 13...|[{document, 0, 13...|[{token, 0, 5, At...|[{pos, 0, 5, NN, ...|[{named_entity, 0...|\n",
            "|The risk of cance...|[{document, 0, 15...|[{document, 0, 15...|[{token, 0, 2, Th...|[{pos, 0, 2, NN, ...|[{named_entity, 0...|\n",
            "+--------------------+--------------------+--------------------+--------------------+--------------------+--------------------+\n",
            "only showing top 3 rows\n",
            "\n"
          ]
        }
      ]
    },
    {
      "cell_type": "markdown",
      "metadata": {
        "id": "AaTp5atqc_C-"
      },
      "source": [
        "## Split the test data into two parts:\n",
        "- We Keep the first part separate and use it for training the model further, as it will be totally unseen data from the same taxonomy.\n",
        "\n",
        "- The second part will be used to testing and evaluating"
      ]
    },
    {
      "cell_type": "code",
      "metadata": {
        "id": "D_gInTNZRhnC"
      },
      "source": [
        "(test_data_1, test_data_2) = test_data.randomSplit([0.5, 0.5], seed = 100)\n",
        "\n",
        "# save the test data as parquet for easy testing\n",
        "clinical_embeddings.transform(test_data_1).write.parquet('test_1.parquet')\n",
        "\n",
        "clinical_embeddings.transform(test_data_2).write.parquet('test_2.parquet')"
      ],
      "execution_count": 9,
      "outputs": []
    },
    {
      "cell_type": "markdown",
      "metadata": {
        "id": "WX2jO2FPRo6Q"
      },
      "source": [
        "## Train a new model, pause, and resume training on the same dataset."
      ]
    },
    {
      "cell_type": "markdown",
      "metadata": {
        "id": "tc2Uoh_YR3dA"
      },
      "source": [
        "### Create a graph"
      ]
    },
    {
      "cell_type": "code",
      "source": [
        "!pip install -q tensorflow==2.7.0\n",
        "!pip install -q tensorflow-addons"
      ],
      "metadata": {
        "id": "SUaAH-JXpV6m",
        "colab": {
          "base_uri": "https://localhost:8080/"
        },
        "outputId": "aff09ad3-501f-4f46-a115-9f1a801ae7d9"
      },
      "execution_count": 10,
      "outputs": [
        {
          "output_type": "stream",
          "name": "stdout",
          "text": [
            "\u001b[K     |████████████████████████████████| 489.6 MB 10 kB/s \n",
            "\u001b[K     |████████████████████████████████| 1.3 MB 28.3 MB/s \n",
            "\u001b[K     |████████████████████████████████| 463 kB 21.6 MB/s \n",
            "\u001b[K     |████████████████████████████████| 1.1 MB 6.0 MB/s \n",
            "\u001b[?25h"
          ]
        }
      ]
    },
    {
      "cell_type": "code",
      "metadata": {
        "id": "WFzmo-JzRs3x",
        "colab": {
          "base_uri": "https://localhost:8080/"
        },
        "outputId": "dd0ed93e-e569-485a-a984-1b648535c02a"
      },
      "source": [
        "from sparknlp_jsl.training import tf_graph\n",
        "\n",
        "tf_graph.print_model_params(\"ner_dl\")\n",
        "\n",
        "tf_graph.build(\"ner_dl\",\n",
        "               build_params={\"embeddings_dim\": 200,\n",
        "                             \"nchars\": 128,\n",
        "                             \"ntags\": 12,\n",
        "                             \"is_medical\": 1},\n",
        "                model_location=\"./medical_ner_graphs\",\n",
        "                model_filename=\"auto\")\n"
      ],
      "execution_count": 11,
      "outputs": [
        {
          "output_type": "stream",
          "name": "stdout",
          "text": [
            "ner_dl parameters.\n",
            "Parameter            Required   Default value        Description\n",
            "ntags                yes        -                    Number of tags.\n",
            "embeddings_dim       no         200                  Embeddings dimension.\n",
            "nchars               no         100                  Number of chars.\n",
            "lstm_size            no         128                  Number of LSTM units.\n",
            "gpu_device           no         0                    Device for training.\n",
            "is_medical           no         0                    Build a Medical Ner graph.\n",
            "WARNING:tensorflow:From /usr/local/lib/python3.7/dist-packages/tensorflow/python/compat/v2_compat.py:111: disable_resource_variables (from tensorflow.python.ops.variable_scope) is deprecated and will be removed in a future version.\n",
            "Instructions for updating:\n",
            "non-resource variables are not supported in the long term\n",
            "WARNING:tensorflow:From /usr/local/lib/python3.7/dist-packages/tensorflow/python/ops/init_ops.py:97: calling GlorotUniform.__init__ (from tensorflow.python.ops.init_ops) with dtype is deprecated and will be removed in a future version.\n",
            "Instructions for updating:\n",
            "Call initializer instance with the dtype argument instead of passing it to the constructor\n",
            "WARNING:tensorflow:From /usr/local/lib/python3.7/dist-packages/tensorflow/python/ops/init_ops.py:97: calling Orthogonal.__init__ (from tensorflow.python.ops.init_ops) with dtype is deprecated and will be removed in a future version.\n",
            "Instructions for updating:\n",
            "Call initializer instance with the dtype argument instead of passing it to the constructor\n",
            "WARNING:tensorflow:From /usr/local/lib/python3.7/dist-packages/tensorflow/python/ops/init_ops.py:97: calling Zeros.__init__ (from tensorflow.python.ops.init_ops) with dtype is deprecated and will be removed in a future version.\n",
            "Instructions for updating:\n",
            "Call initializer instance with the dtype argument instead of passing it to the constructor\n",
            "ner_dl graph exported to ./medical_ner_graphs/blstm_12_200_128_128.pb\n"
          ]
        }
      ]
    },
    {
      "cell_type": "markdown",
      "metadata": {
        "id": "PT5pF7V7R69G"
      },
      "source": [
        "### Train for 2 epochs"
      ]
    },
    {
      "cell_type": "code",
      "metadata": {
        "id": "X7J4j069R9ty"
      },
      "source": [
        "nerTagger = MedicalNerApproach()\\\n",
        "      .setInputCols([\"sentence\", \"token\", \"embeddings\"])\\\n",
        "      .setLabelColumn(\"label\")\\\n",
        "      .setOutputCol(\"ner\")\\\n",
        "      .setMaxEpochs(2)\\\n",
        "      .setLr(0.003)\\\n",
        "      .setBatchSize(8)\\\n",
        "      .setRandomSeed(0)\\\n",
        "      .setVerbose(1)\\\n",
        "      .setEvaluationLogExtended(True) \\\n",
        "      .setEnableOutputLogs(True)\\\n",
        "      .setIncludeConfidence(True)\\\n",
        "      .setTestDataset('./test_2.parquet')\\\n",
        "      .setGraphFolder('./medical_ner_graphs')\\\n",
        "      .setOutputLogsPath('./ner_logs')\n",
        "\n",
        "ner_pipeline = Pipeline(stages=[\n",
        "      clinical_embeddings,\n",
        "      nerTagger\n",
        " ])"
      ],
      "execution_count": 12,
      "outputs": []
    },
    {
      "cell_type": "code",
      "metadata": {
        "id": "u5Phv3rFSBR_",
        "colab": {
          "base_uri": "https://localhost:8080/"
        },
        "outputId": "14a6c40b-e18c-4354-f5b1-c96dd109a729"
      },
      "source": [
        "\n",
        "%%time\n",
        "ner_model = ner_pipeline.fit(training_data)"
      ],
      "execution_count": 13,
      "outputs": [
        {
          "output_type": "stream",
          "name": "stdout",
          "text": [
            "CPU times: user 12.5 s, sys: 1.31 s, total: 13.8 s\n",
            "Wall time: 13min 15s\n"
          ]
        }
      ]
    },
    {
      "cell_type": "code",
      "source": [
        "!ls ner_logs/MedicalNerApproach*"
      ],
      "metadata": {
        "id": "VYc5M2JHNTrQ",
        "colab": {
          "base_uri": "https://localhost:8080/"
        },
        "outputId": "61b696bc-7073-43de-9c5f-bd188cfe9f02"
      },
      "execution_count": 14,
      "outputs": [
        {
          "output_type": "stream",
          "name": "stdout",
          "text": [
            "ner_logs/MedicalNerApproach_2878264a9c72.log\n"
          ]
        }
      ]
    },
    {
      "cell_type": "code",
      "metadata": {
        "id": "sPZ2tmHFSBUy",
        "colab": {
          "base_uri": "https://localhost:8080/"
        },
        "outputId": "bfc11226-c987-4a82-d391-5f72bd35b6d3"
      },
      "source": [
        "# Training Logs\n",
        "! cat ner_logs/MedicalNerApproach*"
      ],
      "execution_count": 15,
      "outputs": [
        {
          "output_type": "stream",
          "name": "stdout",
          "text": [
            "Name of the selected graph: /content/./medical_ner_graphs/blstm_12_200_128_128.pb\n",
            "Training started - total epochs: 2 - lr: 0.003 - batch size: 8 - labels: 3 - chars: 84 - training examples: 6347\n",
            "\n",
            "\n",
            "Epoch 1/2 started, lr: 0.003, dataset size: 6347\n",
            "\n",
            "\n",
            "Epoch 1/2 - 335.12s - loss: 2003.4655 - avg training loss: 2.5200822 - batches: 795\n",
            "Quality on test dataset: \n",
            "time to finish evaluation: 7.22s\n",
            "Total test loss: 102.5874\tAvg test loss: 1.5544\n",
            "label\t tp\t fp\t fn\t prec\t rec\t f1\n",
            "I-Disease\t 450\t 25\t 133\t 0.94736844\t 0.77186966\t 0.8506617\n",
            "B-Disease\t 416\t 76\t 102\t 0.8455285\t 0.8030888\t 0.8237624\n",
            "tp: 866 fp: 101 fn: 235 labels: 2\n",
            "Macro-average\t prec: 0.8964485, rec: 0.7874792, f1: 0.8384381\n",
            "Micro-average\t prec: 0.89555323, rec: 0.7865577, f1: 0.8375242\n",
            "\n",
            "\n",
            "Epoch 2/2 started, lr: 0.0029850747, dataset size: 6347\n",
            "\n",
            "\n",
            "Epoch 2/2 - 398.39s - loss: 846.09753 - avg training loss: 1.0642736 - batches: 795\n",
            "Quality on test dataset: \n",
            "time to finish evaluation: 5.08s\n",
            "Total test loss: 75.4819\tAvg test loss: 1.1437\n",
            "label\t tp\t fp\t fn\t prec\t rec\t f1\n",
            "I-Disease\t 523\t 72\t 60\t 0.8789916\t 0.89708406\t 0.8879457\n",
            "B-Disease\t 453\t 80\t 65\t 0.8499062\t 0.8745174\t 0.86203617\n",
            "tp: 976 fp: 152 fn: 125 labels: 2\n",
            "Macro-average\t prec: 0.8644489, rec: 0.8858007, f1: 0.8749946\n",
            "Micro-average\t prec: 0.8652482, rec: 0.88646686, f1: 0.875729\n"
          ]
        }
      ]
    },
    {
      "cell_type": "code",
      "metadata": {
        "id": "p2onzNGuP_QH"
      },
      "source": [
        "# Logs of 4 consecutive epochs to compare with 2+2 epochs on separate datasets from same taxonomy\n",
        "\n",
        "#!cat ner_logs/MedicalNerApproach_4d3d69967c3f.log"
      ],
      "execution_count": 16,
      "outputs": []
    },
    {
      "cell_type": "markdown",
      "metadata": {
        "id": "qLKJpTfKWLwC"
      },
      "source": [
        "### Evaluate"
      ]
    },
    {
      "cell_type": "code",
      "metadata": {
        "id": "Ec5aux5DSBXE",
        "colab": {
          "base_uri": "https://localhost:8080/"
        },
        "outputId": "5bdaa940-8900-4295-dea9-1ce0a7eb4bd5"
      },
      "source": [
        "from sparknlp_jsl.eval import NerDLMetrics\n",
        "import pyspark.sql.functions as F\n",
        "\n",
        "pred_df = ner_model.stages[1].transform(clinical_embeddings.transform(test_data_2))\n",
        "\n",
        "evaler = NerDLMetrics(mode=\"full_chunk\", dropO=True)\n",
        "\n",
        "eval_result = evaler.computeMetricsFromDF(pred_df.select(\"label\",\"ner\"), prediction_col=\"ner\", label_col=\"label\").cache()\n",
        "\n",
        "eval_result.withColumn(\"precision\", F.round(eval_result[\"precision\"],4))\\\n",
        "    .withColumn(\"recall\", F.round(eval_result[\"recall\"],4))\\\n",
        "    .withColumn(\"f1\", F.round(eval_result[\"f1\"],4)).show(100)\n",
        "\n",
        "print(eval_result.selectExpr(\"avg(f1) as macro\").show())\n",
        "print (eval_result.selectExpr(\"sum(f1*total) as sumprod\",\"sum(total) as sumtotal\").selectExpr(\"sumprod/sumtotal as micro\").show())"
      ],
      "execution_count": 17,
      "outputs": [
        {
          "output_type": "stream",
          "name": "stdout",
          "text": [
            "+-------+-----+----+----+-----+---------+------+------+\n",
            "| entity|   tp|  fp|  fn|total|precision|recall|    f1|\n",
            "+-------+-----+----+----+-----+---------+------+------+\n",
            "|Disease|444.0|89.0|71.0|515.0|    0.833|0.8621|0.8473|\n",
            "+-------+-----+----+----+-----+---------+------+------+\n",
            "\n",
            "+------------------+\n",
            "|             macro|\n",
            "+------------------+\n",
            "|0.8473282442748091|\n",
            "+------------------+\n",
            "\n",
            "None\n",
            "+------------------+\n",
            "|             micro|\n",
            "+------------------+\n",
            "|0.8473282442748091|\n",
            "+------------------+\n",
            "\n",
            "None\n"
          ]
        }
      ]
    },
    {
      "cell_type": "markdown",
      "metadata": {
        "id": "77HQ3yYyT-RZ"
      },
      "source": [
        "### Save the model to disk"
      ]
    },
    {
      "cell_type": "code",
      "metadata": {
        "id": "_KEUa1yaSBZW"
      },
      "source": [
        "ner_model.stages[1].write().overwrite().save('models/NCBI_NER_2_epoch')"
      ],
      "execution_count": 18,
      "outputs": []
    },
    {
      "cell_type": "markdown",
      "metadata": {
        "id": "y_U4mQcXUTg7"
      },
      "source": [
        "### Train using the saved model on unseen dataset\n",
        "#### We use unseen data from same taxonomy"
      ]
    },
    {
      "cell_type": "code",
      "metadata": {
        "id": "dgFviuf5SBei"
      },
      "source": [
        "\n",
        "nerTagger = MedicalNerApproach()\\\n",
        "      .setInputCols([\"sentence\", \"token\", \"embeddings\"])\\\n",
        "      .setLabelColumn(\"label\")\\\n",
        "      .setOutputCol(\"ner\")\\\n",
        "      .setMaxEpochs(2)\\\n",
        "      .setLr(0.003)\\\n",
        "      .setBatchSize(8)\\\n",
        "      .setRandomSeed(0)\\\n",
        "      .setVerbose(1)\\\n",
        "      .setEvaluationLogExtended(True) \\\n",
        "      .setEnableOutputLogs(True)\\\n",
        "      .setIncludeConfidence(True)\\\n",
        "      .setTestDataset('/content/test_2.parquet')\\\n",
        "      .setOutputLogsPath('ner_logs')\\\n",
        "      .setGraphFolder('medical_ner_graphs')\\\n",
        "      .setPretrainedModelPath(\"models/NCBI_NER_2_epoch\") ## load exisitng model\n",
        "    \n",
        "ner_pipeline = Pipeline(stages=[\n",
        "      clinical_embeddings,\n",
        "      nerTagger\n",
        " ])"
      ],
      "execution_count": 19,
      "outputs": []
    },
    {
      "cell_type": "code",
      "source": [
        "# remove the existing logs\n",
        "\n",
        "! rm -r ./ner_logs"
      ],
      "metadata": {
        "id": "kics80lUTXTG"
      },
      "execution_count": 20,
      "outputs": []
    },
    {
      "cell_type": "code",
      "metadata": {
        "id": "xVZGKEsKUSrS",
        "colab": {
          "base_uri": "https://localhost:8080/"
        },
        "outputId": "1567f947-702f-452e-ca25-0b680488e1f3"
      },
      "source": [
        "%%time\n",
        "ner_model_retrained = ner_pipeline.fit(test_data_1)"
      ],
      "execution_count": 21,
      "outputs": [
        {
          "output_type": "stream",
          "name": "stdout",
          "text": [
            "CPU times: user 1.31 s, sys: 146 ms, total: 1.46 s\n",
            "Wall time: 1min 23s\n"
          ]
        }
      ]
    },
    {
      "cell_type": "code",
      "source": [
        "!ls ner_logs/MedicalNerApproach*"
      ],
      "metadata": {
        "id": "IEvNYEXGTTE3",
        "colab": {
          "base_uri": "https://localhost:8080/"
        },
        "outputId": "6ac210f4-9471-4309-bf62-0d224c3e2ecc"
      },
      "execution_count": 22,
      "outputs": [
        {
          "output_type": "stream",
          "name": "stdout",
          "text": [
            "ner_logs/MedicalNerApproach_059051bfa9f2.log\n"
          ]
        }
      ]
    },
    {
      "cell_type": "code",
      "metadata": {
        "id": "zVTfOVnIgwpP",
        "colab": {
          "base_uri": "https://localhost:8080/"
        },
        "outputId": "9d547126-c620-477f-c742-7c6b76df1a0d"
      },
      "source": [
        "!cat ./ner_logs/MedicalNerApproach*"
      ],
      "execution_count": 23,
      "outputs": [
        {
          "output_type": "stream",
          "name": "stdout",
          "text": [
            "Name of the selected graph: pretrained graph\n",
            "Training started - total epochs: 2 - lr: 0.003 - batch size: 8 - labels: 3 - chars: 84 - training examples: 434\n",
            "\n",
            "\n",
            "Epoch 1/2 started, lr: 0.003, dataset size: 434\n",
            "\n",
            "\n",
            "Epoch 1/2 - 32.94s - loss: 62.25117 - avg training loss: 1.111628 - batches: 56\n",
            "Quality on test dataset: \n",
            "time to finish evaluation: 6.74s\n",
            "Total test loss: 71.8545\tAvg test loss: 1.0887\n",
            "label\t tp\t fp\t fn\t prec\t rec\t f1\n",
            "I-Disease\t 534\t 78\t 49\t 0.872549\t 0.91595197\t 0.89372385\n",
            "B-Disease\t 461\t 85\t 57\t 0.8443223\t 0.88996136\t 0.8665413\n",
            "tp: 995 fp: 163 fn: 106 labels: 2\n",
            "Macro-average\t prec: 0.85843563, rec: 0.90295666, f1: 0.88013345\n",
            "Micro-average\t prec: 0.85924006, rec: 0.9037239, f1: 0.88092077\n",
            "\n",
            "\n",
            "Epoch 2/2 started, lr: 0.0029850747, dataset size: 434\n",
            "\n",
            "\n",
            "Epoch 2/2 - 26.75s - loss: 44.559547 - avg training loss: 0.7957062 - batches: 56\n",
            "Quality on test dataset: \n",
            "time to finish evaluation: 4.73s\n",
            "Total test loss: 61.3350\tAvg test loss: 0.9293\n",
            "label\t tp\t fp\t fn\t prec\t rec\t f1\n",
            "I-Disease\t 516\t 77\t 67\t 0.87015176\t 0.8850772\t 0.87755096\n",
            "B-Disease\t 463\t 75\t 55\t 0.8605948\t 0.8938224\t 0.876894\n",
            "tp: 979 fp: 152 fn: 122 labels: 2\n",
            "Macro-average\t prec: 0.86537325, rec: 0.8894498, f1: 0.8772464\n",
            "Micro-average\t prec: 0.86560565, rec: 0.8891916, f1: 0.8772402\n"
          ]
        }
      ]
    },
    {
      "cell_type": "code",
      "metadata": {
        "id": "K_vg2Ajse6aZ",
        "colab": {
          "base_uri": "https://localhost:8080/"
        },
        "outputId": "75f7d098-ee95-4c02-a491-ec7743b069e6"
      },
      "source": [
        "from sparknlp_jsl.eval import NerDLMetrics\n",
        "import pyspark.sql.functions as F\n",
        "\n",
        "pred_df = ner_model_retrained.stages[1].transform(clinical_embeddings.transform(test_data_2))\n",
        "\n",
        "evaler = NerDLMetrics(mode=\"full_chunk\", dropO=True)\n",
        "\n",
        "eval_result = evaler.computeMetricsFromDF(pred_df.select(\"label\",\"ner\"), prediction_col=\"ner\", label_col=\"label\").cache()\n",
        "\n",
        "eval_result.withColumn(\"precision\", F.round(eval_result[\"precision\"],4))\\\n",
        "    .withColumn(\"recall\", F.round(eval_result[\"recall\"],4))\\\n",
        "    .withColumn(\"f1\", F.round(eval_result[\"f1\"],4)).show(100)\n",
        "\n",
        "print(eval_result.selectExpr(\"avg(f1) as macro\").show())\n",
        "print (eval_result.selectExpr(\"sum(f1*total) as sumprod\",\"sum(total) as sumtotal\").selectExpr(\"sumprod/sumtotal as micro\").show())"
      ],
      "execution_count": 24,
      "outputs": [
        {
          "output_type": "stream",
          "name": "stdout",
          "text": [
            "+-------+-----+----+----+-----+---------+------+------+\n",
            "| entity|   tp|  fp|  fn|total|precision|recall|    f1|\n",
            "+-------+-----+----+----+-----+---------+------+------+\n",
            "|Disease|453.0|81.0|62.0|515.0|   0.8483|0.8796|0.8637|\n",
            "+-------+-----+----+----+-----+---------+------+------+\n",
            "\n",
            "+------------------+\n",
            "|             macro|\n",
            "+------------------+\n",
            "|0.8636796949475691|\n",
            "+------------------+\n",
            "\n",
            "None\n",
            "+------------------+\n",
            "|             micro|\n",
            "+------------------+\n",
            "|0.8636796949475691|\n",
            "+------------------+\n",
            "\n",
            "None\n"
          ]
        }
      ]
    },
    {
      "cell_type": "markdown",
      "source": [
        "### Train a Model Choosing Best Model\n",
        "\n",
        "`useBestModel`:  This param preserves and restores the model that has achieved the best performance at the end of the training. The priority is metrics from testDataset (micro F1), metrics from validationSplit (micro F1), and if none is set it will keep track of loss during the training. <br/>\n",
        "\n",
        "`earlyStopping`: You can stop training at the point when the perforfmance on test/validation dataset starts to degrage. Two params are used in order to use this feature: <br/> \n",
        "\n",
        "- `earlyStoppingCriterion`: This is used set the minimal improvement of the test metric to terminate training. The metric monitored is the same as the metrics used in `useBestModel` (micro F1 when using test/validation set, loss otherwise). Default is 0 which means no early stopping is applied. \n",
        "\n",
        "- `earlyStoppingPatience`:  The number of epoch without improvement which will be tolerated. Default is 0, which means that early stopping will occur at the first time when performance in the current epoch is no better than in the previous epoch."
      ],
      "metadata": {
        "id": "8u8us0sQl3v-"
      }
    },
    {
      "cell_type": "code",
      "source": [
        "# remove the existing logs\n",
        "\n",
        "! rm -r ./ner_logs"
      ],
      "metadata": {
        "id": "6zJQnhWDu2Qb"
      },
      "execution_count": 25,
      "outputs": []
    },
    {
      "cell_type": "code",
      "source": [
        "nerTagger = MedicalNerApproach()\\\n",
        "      .setInputCols([\"sentence\", \"token\", \"embeddings\"])\\\n",
        "      .setLabelColumn(\"label\")\\\n",
        "      .setOutputCol(\"ner\")\\\n",
        "      .setMaxEpochs(20)\\\n",
        "      .setLr(0.003)\\\n",
        "      .setBatchSize(8)\\\n",
        "      .setRandomSeed(0)\\\n",
        "      .setVerbose(1)\\\n",
        "      .setEvaluationLogExtended(True) \\\n",
        "      .setEnableOutputLogs(True)\\\n",
        "      .setIncludeConfidence(True)\\\n",
        "      .setTestDataset('./test_2.parquet')\\\n",
        "      .setGraphFolder('./medical_ner_graphs')\\\n",
        "      .setOutputLogsPath('./ner_logs')\\\n",
        "      .setValidationSplit(0.2)\\\n",
        "      .setUseBestModel(True)\\\n",
        "      .setEarlyStoppingCriterion(0.04)\\\n",
        "      .setEarlyStoppingPatience(3)\n",
        "\n",
        "\n",
        "ner_pipeline = Pipeline(stages=[\n",
        "      clinical_embeddings,\n",
        "      nerTagger\n",
        " ])"
      ],
      "metadata": {
        "id": "K5RXqqaMncrr"
      },
      "execution_count": 26,
      "outputs": []
    },
    {
      "cell_type": "code",
      "source": [
        "\n",
        "%%time\n",
        "ner_model = ner_pipeline.fit(training_data)"
      ],
      "metadata": {
        "colab": {
          "base_uri": "https://localhost:8080/"
        },
        "id": "cNGGu4O8ncoL",
        "outputId": "076f9e2d-f0c1-47e2-ba17-4b4a7962800c"
      },
      "execution_count": 27,
      "outputs": [
        {
          "output_type": "stream",
          "name": "stdout",
          "text": [
            "CPU times: user 7.35 s, sys: 765 ms, total: 8.11 s\n",
            "Wall time: 12min 17s\n"
          ]
        }
      ]
    },
    {
      "cell_type": "code",
      "source": [
        "!ls ner_logs/MedicalNerApproach*"
      ],
      "metadata": {
        "colab": {
          "base_uri": "https://localhost:8080/"
        },
        "id": "-cQp6GMml3d2",
        "outputId": "955ce69a-7123-448e-fae8-c888b25526ee"
      },
      "execution_count": 28,
      "outputs": [
        {
          "output_type": "stream",
          "name": "stdout",
          "text": [
            "ner_logs/MedicalNerApproach_12ab97dc2920.log\n"
          ]
        }
      ]
    },
    {
      "cell_type": "code",
      "source": [
        "# Training Logs\n",
        "! cat ner_logs/MedicalNerApproach*"
      ],
      "metadata": {
        "colab": {
          "base_uri": "https://localhost:8080/"
        },
        "id": "sq-Erbk7l3a1",
        "outputId": "52bea3a9-ac3d-4d17-b0f3-b3ac13c3864a"
      },
      "execution_count": 29,
      "outputs": [
        {
          "output_type": "stream",
          "name": "stdout",
          "text": [
            "Name of the selected graph: /content/./medical_ner_graphs/blstm_12_200_128_128.pb\n",
            "Training started - total epochs: 20 - lr: 0.003 - batch size: 8 - labels: 3 - chars: 83 - training examples: 5053\n",
            "\n",
            "\n",
            "Epoch 1/20 started, lr: 0.003, dataset size: 5053\n",
            "\n",
            "\n",
            "Epoch 1/20 - 269.89s - loss: 1927.58 - avg training loss: 3.04515 - batches: 633\n",
            "Quality on validation dataset (20.0%), validation examples = 1010\n",
            "time to finish evaluation: 10.17s\n",
            "Total validation loss: 311.8901\tAvg validation loss: 1.9018\n",
            "label\t tp\t fp\t fn\t prec\t rec\t f1\n",
            "I-Disease\t 1095\t 61\t 543\t 0.9472318\t 0.66849816\t 0.7838225\n",
            "B-Disease\t 1021\t 162\t 236\t 0.86306\t 0.8122514\t 0.8368853\n",
            "tp: 2116 fp: 223 fn: 779 labels: 2\n",
            "Macro-average\t prec: 0.9051459, rec: 0.7403748, f1: 0.8145108\n",
            "Micro-average\t prec: 0.9046601, rec: 0.73091537, f1: 0.80855936\n",
            "Quality on test dataset: \n",
            "time to finish evaluation: 3.17s\n",
            "Total test loss: 128.7094\tAvg test loss: 1.9501\n",
            "label\t tp\t fp\t fn\t prec\t rec\t f1\n",
            "I-Disease\t 430\t 25\t 153\t 0.94505495\t 0.7375643\t 0.82851636\n",
            "B-Disease\t 421\t 69\t 97\t 0.85918367\t 0.81274134\t 0.8353175\n",
            "tp: 851 fp: 94 fn: 250 labels: 2\n",
            "Macro-average\t prec: 0.9021193, rec: 0.7751528, f1: 0.8338304\n",
            "Micro-average\t prec: 0.9005291, rec: 0.7729337, f1: 0.831867\n",
            "\n",
            "\n",
            "Epoch 2/20 started, lr: 0.0029850747, dataset size: 5053\n",
            "\n",
            "\n",
            "Epoch 2/20 - 131.14s - loss: 722.0703 - avg training loss: 1.1407114 - batches: 633\n",
            "Quality on validation dataset (20.0%), validation examples = 1010\n",
            "time to finish evaluation: 6.88s\n",
            "Total validation loss: 202.6846\tAvg validation loss: 1.2359\n",
            "label\t tp\t fp\t fn\t prec\t rec\t f1\n",
            "I-Disease\t 1301\t 81\t 337\t 0.94138926\t 0.7942613\t 0.8615894\n",
            "B-Disease\t 1087\t 125\t 170\t 0.8968647\t 0.86475736\t 0.88051844\n",
            "tp: 2388 fp: 206 fn: 507 labels: 2\n",
            "Macro-average\t prec: 0.919127, rec: 0.8295093, f1: 0.87202173\n",
            "Micro-average\t prec: 0.920586, rec: 0.82487047, f1: 0.87010384\n",
            "Quality on test dataset: \n",
            "time to finish evaluation: 2.68s\n",
            "Total test loss: 90.0831\tAvg test loss: 1.3649\n",
            "label\t tp\t fp\t fn\t prec\t rec\t f1\n",
            "I-Disease\t 471\t 37\t 112\t 0.9271653\t 0.80789024\t 0.86342806\n",
            "B-Disease\t 436\t 71\t 82\t 0.85996056\t 0.8416988\t 0.8507317\n",
            "tp: 907 fp: 108 fn: 194 labels: 2\n",
            "Macro-average\t prec: 0.8935629, rec: 0.82479453, f1: 0.8578027\n",
            "Micro-average\t prec: 0.89359605, rec: 0.8237966, f1: 0.85727787\n",
            "\n",
            "\n",
            "Epoch 3/20 started, lr: 0.0029702971, dataset size: 5053\n",
            "\n",
            "\n",
            "Epoch 3/20 - 126.79s - loss: 538.2397 - avg training loss: 0.85029966 - batches: 633\n",
            "Quality on validation dataset (20.0%), validation examples = 1010\n",
            "time to finish evaluation: 7.06s\n",
            "Total validation loss: 165.4477\tAvg validation loss: 1.0088\n",
            "label\t tp\t fp\t fn\t prec\t rec\t f1\n",
            "I-Disease\t 1395\t 134\t 243\t 0.912361\t 0.85164833\t 0.88095987\n",
            "B-Disease\t 1110\t 121\t 147\t 0.9017059\t 0.8830549\t 0.89228296\n",
            "tp: 2505 fp: 255 fn: 390 labels: 2\n",
            "Macro-average\t prec: 0.90703344, rec: 0.86735165, f1: 0.8867488\n",
            "Micro-average\t prec: 0.9076087, rec: 0.865285, f1: 0.8859417\n",
            "Quality on test dataset: \n",
            "time to finish evaluation: 2.79s\n",
            "Total test loss: 71.4446\tAvg test loss: 1.0825\n",
            "label\t tp\t fp\t fn\t prec\t rec\t f1\n",
            "I-Disease\t 525\t 87\t 58\t 0.85784316\t 0.9005146\t 0.8786611\n",
            "B-Disease\t 443\t 72\t 75\t 0.86019415\t 0.85521233\t 0.857696\n",
            "tp: 968 fp: 159 fn: 133 labels: 2\n",
            "Macro-average\t prec: 0.8590187, rec: 0.87786347, f1: 0.86833876\n",
            "Micro-average\t prec: 0.8589175, rec: 0.8792007, f1: 0.8689408\n",
            "\n",
            "\n",
            "Epoch 4/20 started, lr: 0.002955665, dataset size: 5053\n",
            "\n",
            "\n",
            "Epoch 4/20 - 135.75s - loss: 418.49536 - avg training loss: 0.66113013 - batches: 633\n",
            "Quality on validation dataset (20.0%), validation examples = 1010\n",
            "time to finish evaluation: 7.35s\n",
            "Total validation loss: 148.0743\tAvg validation loss: 0.9029\n",
            "label\t tp\t fp\t fn\t prec\t rec\t f1\n",
            "I-Disease\t 1419\t 103\t 219\t 0.9323259\t 0.86630034\t 0.8981013\n",
            "B-Disease\t 1131\t 129\t 126\t 0.89761907\t 0.8997613\t 0.8986889\n",
            "tp: 2550 fp: 232 fn: 345 labels: 2\n",
            "Macro-average\t prec: 0.9149725, rec: 0.88303083, f1: 0.8987179\n",
            "Micro-average\t prec: 0.9166068, rec: 0.88082904, f1: 0.89836186\n",
            "Quality on test dataset: \n",
            "time to finish evaluation: 2.84s\n",
            "Total test loss: 69.8653\tAvg test loss: 1.0586\n",
            "label\t tp\t fp\t fn\t prec\t rec\t f1\n",
            "I-Disease\t 503\t 55\t 80\t 0.9014337\t 0.8627787\t 0.88168275\n",
            "B-Disease\t 457\t 79\t 61\t 0.85261196\t 0.8822394\t 0.8671727\n",
            "tp: 960 fp: 134 fn: 141 labels: 2\n",
            "Macro-average\t prec: 0.87702286, rec: 0.87250906, f1: 0.8747601\n",
            "Micro-average\t prec: 0.8775137, rec: 0.8719346, f1: 0.87471527\n",
            "Early stopping: test set macro F1 has not improved for more than 3 epochs\n"
          ]
        }
      ]
    },
    {
      "cell_type": "markdown",
      "source": [
        "As you see above, training was stopped at the 17th epoch since there were not improvement."
      ],
      "metadata": {
        "id": "HcTi3HZ-vMpY"
      }
    },
    {
      "cell_type": "markdown",
      "source": [
        "**Evaluate**"
      ],
      "metadata": {
        "id": "jwMDoW2wxiOL"
      }
    },
    {
      "cell_type": "code",
      "source": [
        "from sparknlp_jsl.eval import NerDLMetrics\n",
        "import pyspark.sql.functions as F\n",
        "\n",
        "pred_df = ner_model.stages[1].transform(clinical_embeddings.transform(test_data_1))\n",
        "\n",
        "evaler = NerDLMetrics(mode=\"full_chunk\", dropO=True)\n",
        "\n",
        "eval_result = evaler.computeMetricsFromDF(pred_df.select(\"label\",\"ner\"), prediction_col=\"ner\", label_col=\"label\").cache()\n",
        "\n",
        "eval_result.withColumn(\"precision\", F.round(eval_result[\"precision\"],4))\\\n",
        "    .withColumn(\"recall\", F.round(eval_result[\"recall\"],4))\\\n",
        "    .withColumn(\"f1\", F.round(eval_result[\"f1\"],4)).show(100)\n",
        "\n",
        "print(eval_result.selectExpr(\"avg(f1) as macro\").show())\n",
        "print (eval_result.selectExpr(\"sum(f1*total) as sumprod\",\"sum(total) as sumtotal\").selectExpr(\"sumprod/sumtotal as micro\").show())"
      ],
      "metadata": {
        "colab": {
          "base_uri": "https://localhost:8080/"
        },
        "id": "PRMQ8XuT1qxp",
        "outputId": "b6765f89-7534-4981-fb27-f946a99d9493"
      },
      "execution_count": 30,
      "outputs": [
        {
          "output_type": "stream",
          "name": "stdout",
          "text": [
            "+-------+-----+----+----+-----+---------+------+------+\n",
            "| entity|   tp|  fp|  fn|total|precision|recall|    f1|\n",
            "+-------+-----+----+----+-----+---------+------+------+\n",
            "|Disease|379.0|63.0|61.0|440.0|   0.8575|0.8614|0.8594|\n",
            "+-------+-----+----+----+-----+---------+------+------+\n",
            "\n",
            "+------------------+\n",
            "|             macro|\n",
            "+------------------+\n",
            "|0.8594104308390023|\n",
            "+------------------+\n",
            "\n",
            "None\n",
            "+------------------+\n",
            "|             micro|\n",
            "+------------------+\n",
            "|0.8594104308390021|\n",
            "+------------------+\n",
            "\n",
            "None\n"
          ]
        }
      ]
    },
    {
      "cell_type": "code",
      "source": [
        "from sparknlp_jsl.eval import NerDLMetrics\n",
        "import pyspark.sql.functions as F\n",
        "\n",
        "pred_df = ner_model.stages[1].transform(clinical_embeddings.transform(test_data_2))\n",
        "\n",
        "evaler = NerDLMetrics(mode=\"full_chunk\", dropO=True)\n",
        "\n",
        "eval_result = evaler.computeMetricsFromDF(pred_df.select(\"label\",\"ner\"), prediction_col=\"ner\", label_col=\"label\").cache()\n",
        "\n",
        "eval_result.withColumn(\"precision\", F.round(eval_result[\"precision\"],4))\\\n",
        "    .withColumn(\"recall\", F.round(eval_result[\"recall\"],4))\\\n",
        "    .withColumn(\"f1\", F.round(eval_result[\"f1\"],4)).show(100)\n",
        "\n",
        "print(eval_result.selectExpr(\"avg(f1) as macro\").show())\n",
        "print (eval_result.selectExpr(\"sum(f1*total) as sumprod\",\"sum(total) as sumtotal\").selectExpr(\"sumprod/sumtotal as micro\").show())"
      ],
      "metadata": {
        "id": "AqTsr865oD3H",
        "colab": {
          "base_uri": "https://localhost:8080/"
        },
        "outputId": "3737c5fa-e328-4c12-b9ce-9fde2d661920"
      },
      "execution_count": 31,
      "outputs": [
        {
          "output_type": "stream",
          "name": "stdout",
          "text": [
            "+-------+-----+----+----+-----+---------+------+-----+\n",
            "| entity|   tp|  fp|  fn|total|precision|recall|   f1|\n",
            "+-------+-----+----+----+-----+---------+------+-----+\n",
            "|Disease|448.0|85.0|67.0|515.0|   0.8405|0.8699|0.855|\n",
            "+-------+-----+----+----+-----+---------+------+-----+\n",
            "\n",
            "+------------------+\n",
            "|             macro|\n",
            "+------------------+\n",
            "|0.8549618320610687|\n",
            "+------------------+\n",
            "\n",
            "None\n",
            "+------------------+\n",
            "|             micro|\n",
            "+------------------+\n",
            "|0.8549618320610687|\n",
            "+------------------+\n",
            "\n",
            "None\n"
          ]
        }
      ]
    },
    {
      "cell_type": "markdown",
      "metadata": {
        "id": "rw0jTK2RbMAi"
      },
      "source": [
        "## Now let's take a model trained on a different dataset and train on this dataset"
      ]
    },
    {
      "cell_type": "code",
      "metadata": {
        "id": "U2eVAVhfUSt0",
        "colab": {
          "base_uri": "https://localhost:8080/"
        },
        "outputId": "7d98fd94-a693-46a3-e467-982ea90054d7"
      },
      "source": [
        "jsl_ner = MedicalNerModel.pretrained('ner_jsl','en','clinical/models')\n",
        "\n",
        "jsl_ner.getClasses()"
      ],
      "execution_count": 32,
      "outputs": [
        {
          "output_type": "stream",
          "name": "stdout",
          "text": [
            "ner_jsl download started this may take some time.\n",
            "Approximate size to download 14.5 MB\n",
            "[OK!]\n"
          ]
        },
        {
          "output_type": "execute_result",
          "data": {
            "text/plain": [
              "['O',\n",
              " 'B-Injury_or_Poisoning',\n",
              " 'B-Direction',\n",
              " 'B-Test',\n",
              " 'I-Route',\n",
              " 'B-Admission_Discharge',\n",
              " 'B-Death_Entity',\n",
              " 'I-Oxygen_Therapy',\n",
              " 'I-Drug_BrandName',\n",
              " 'B-Relationship_Status',\n",
              " 'B-Duration',\n",
              " 'I-Alcohol',\n",
              " 'I-Triglycerides',\n",
              " 'I-Date',\n",
              " 'B-Respiration',\n",
              " 'B-Hyperlipidemia',\n",
              " 'I-Test',\n",
              " 'B-Birth_Entity',\n",
              " 'I-VS_Finding',\n",
              " 'B-Age',\n",
              " 'I-Social_History_Header',\n",
              " 'B-Labour_Delivery',\n",
              " 'I-Medical_Device',\n",
              " 'B-Family_History_Header',\n",
              " 'B-BMI',\n",
              " 'I-Fetus_NewBorn',\n",
              " 'I-BMI',\n",
              " 'B-Temperature',\n",
              " 'I-Section_Header',\n",
              " 'I-Communicable_Disease',\n",
              " 'I-ImagingFindings',\n",
              " 'I-Psychological_Condition',\n",
              " 'I-Obesity',\n",
              " 'I-Sexually_Active_or_Sexual_Orientation',\n",
              " 'I-Modifier',\n",
              " 'B-Alcohol',\n",
              " 'I-Temperature',\n",
              " 'I-Vaccine',\n",
              " 'I-Symptom',\n",
              " 'B-Kidney_Disease',\n",
              " 'I-Pulse',\n",
              " 'B-Oncological',\n",
              " 'I-EKG_Findings',\n",
              " 'B-Medical_History_Header',\n",
              " 'I-Relationship_Status',\n",
              " 'I-Blood_Pressure',\n",
              " 'B-Cerebrovascular_Disease',\n",
              " 'I-Diabetes',\n",
              " 'B-Oxygen_Therapy',\n",
              " 'B-O2_Saturation',\n",
              " 'B-Psychological_Condition',\n",
              " 'B-Heart_Disease',\n",
              " 'I-Frequency',\n",
              " 'B-Employment',\n",
              " 'B-Obesity',\n",
              " 'B-Disease_Syndrome_Disorder',\n",
              " 'I-Oncological',\n",
              " 'B-Pregnancy',\n",
              " 'I-RelativeDate',\n",
              " 'I-Procedure',\n",
              " 'B-ImagingFindings',\n",
              " 'I-Overweight',\n",
              " 'B-Procedure',\n",
              " 'I-Labour_Delivery',\n",
              " 'B-Medical_Device',\n",
              " 'I-Family_History_Header',\n",
              " 'B-Race_Ethnicity',\n",
              " 'I-Hypertension',\n",
              " 'I-External_body_part_or_region',\n",
              " 'I-Imaging_Technique',\n",
              " 'I-Kidney_Disease',\n",
              " 'B-Section_Header',\n",
              " 'I-Medical_History_Header',\n",
              " 'I-Test_Result',\n",
              " 'I-Direction',\n",
              " 'I-Treatment',\n",
              " 'B-Symptom',\n",
              " 'I-Substance',\n",
              " 'B-Treatment',\n",
              " 'B-Substance',\n",
              " 'I-Clinical_Dept',\n",
              " 'I-Death_Entity',\n",
              " 'B-Route',\n",
              " 'B-Drug_Ingredient',\n",
              " 'I-LDL',\n",
              " 'I-Heart_Disease',\n",
              " 'I-Duration',\n",
              " 'B-Blood_Pressure',\n",
              " 'I-Respiration',\n",
              " 'B-Diet',\n",
              " 'I-Age',\n",
              " 'B-External_body_part_or_region',\n",
              " 'B-LDL',\n",
              " 'B-VS_Finding',\n",
              " 'I-O2_Saturation',\n",
              " 'I-Race_Ethnicity',\n",
              " 'I-Substance_Quantity',\n",
              " 'B-Allergen',\n",
              " 'B-EKG_Findings',\n",
              " 'B-Imaging_Technique',\n",
              " 'I-Diet',\n",
              " 'I-Gender',\n",
              " 'I-Allergen',\n",
              " 'B-Triglycerides',\n",
              " 'B-RelativeTime',\n",
              " 'I-Disease_Syndrome_Disorder',\n",
              " 'B-Gender',\n",
              " 'I-Injury_or_Poisoning',\n",
              " 'B-Pulse',\n",
              " 'I-Total_Cholesterol',\n",
              " 'B-Social_History_Header',\n",
              " 'I-Cerebrovascular_Disease',\n",
              " 'B-Substance_Quantity',\n",
              " 'B-Diabetes',\n",
              " 'I-Admission_Discharge',\n",
              " 'B-Modifier',\n",
              " 'B-Internal_organ_or_component',\n",
              " 'B-Clinical_Dept',\n",
              " 'I-Internal_organ_or_component',\n",
              " 'I-RelativeTime',\n",
              " 'I-Vital_Signs_Header',\n",
              " 'I-Hyperlipidemia',\n",
              " 'I-Smoking',\n",
              " 'I-Height',\n",
              " 'I-Drug_Ingredient',\n",
              " 'B-Form',\n",
              " 'I-Employment',\n",
              " 'B-Drug_BrandName',\n",
              " 'B-Strength',\n",
              " 'B-Fetus_NewBorn',\n",
              " 'B-RelativeDate',\n",
              " 'I-Weight',\n",
              " 'B-Height',\n",
              " 'B-Test_Result',\n",
              " 'B-Sexually_Active_or_Sexual_Orientation',\n",
              " 'B-Frequency',\n",
              " 'B-Time',\n",
              " 'I-Strength',\n",
              " 'B-Weight',\n",
              " 'B-Vaccine',\n",
              " 'I-Pregnancy',\n",
              " 'I-Form',\n",
              " 'B-Vital_Signs_Header',\n",
              " 'I-Dosage',\n",
              " 'I-Time',\n",
              " 'B-Communicable_Disease',\n",
              " 'B-Dosage',\n",
              " 'B-Overweight',\n",
              " 'B-Hypertension',\n",
              " 'B-HDL',\n",
              " 'B-Total_Cholesterol',\n",
              " 'I-HDL',\n",
              " 'B-Smoking',\n",
              " 'B-Date']"
            ]
          },
          "metadata": {},
          "execution_count": 32
        }
      ]
    },
    {
      "cell_type": "markdown",
      "metadata": {
        "id": "EL0NQ88ofMur"
      },
      "source": [
        "### Now train a model using this model as base"
      ]
    },
    {
      "cell_type": "code",
      "metadata": {
        "id": "f-zM49XJbb2j"
      },
      "source": [
        "\n",
        "nerTagger = MedicalNerApproach()\\\n",
        "      .setInputCols([\"sentence\", \"token\", \"embeddings\"])\\\n",
        "      .setLabelColumn(\"label\")\\\n",
        "      .setOutputCol(\"ner\")\\\n",
        "      .setMaxEpochs(2)\\\n",
        "      .setLr(0.003)\\\n",
        "      .setBatchSize(8)\\\n",
        "      .setRandomSeed(0)\\\n",
        "      .setVerbose(1)\\\n",
        "      .setEvaluationLogExtended(True) \\\n",
        "      .setEnableOutputLogs(True)\\\n",
        "      .setIncludeConfidence(True)\\\n",
        "      .setTestDataset('/content/test_2.parquet')\\\n",
        "      .setOutputLogsPath('ner_logs')\\\n",
        "      .setGraphFolder('medical_ner_graphs')\\\n",
        "      .setPretrainedModelPath(\"/root/cache_pretrained/ner_jsl_en_3.1.0_3.0_1624284761441\")\\\n",
        "      .setOverrideExistingTags(True) # since the tags do not align, set this flag to true\n",
        "    \n",
        "# do hyperparameter by tuning the params above (max epoch, LR, dropout etc.) to get better results\n",
        "ner_pipeline = Pipeline(stages=[\n",
        "      clinical_embeddings,\n",
        "      nerTagger\n",
        " ])"
      ],
      "execution_count": 33,
      "outputs": []
    },
    {
      "cell_type": "code",
      "source": [
        "# remove the existing logs\n",
        "\n",
        "! rm -r ./ner_logs"
      ],
      "metadata": {
        "id": "MBzX1rcny7X1"
      },
      "execution_count": 34,
      "outputs": []
    },
    {
      "cell_type": "code",
      "metadata": {
        "id": "dXKmO-MJbb5N",
        "colab": {
          "base_uri": "https://localhost:8080/"
        },
        "outputId": "0b168cfa-d059-4ba3-acc8-309f9ea9d597"
      },
      "source": [
        "\n",
        "%%time\n",
        "ner_jsl_retrained = ner_pipeline.fit(training_data)\n"
      ],
      "execution_count": 35,
      "outputs": [
        {
          "output_type": "stream",
          "name": "stdout",
          "text": [
            "CPU times: user 2.77 s, sys: 295 ms, total: 3.06 s\n",
            "Wall time: 7min 34s\n"
          ]
        }
      ]
    },
    {
      "cell_type": "code",
      "metadata": {
        "id": "ra_btnoXgvnF",
        "colab": {
          "base_uri": "https://localhost:8080/"
        },
        "outputId": "7405df54-5f11-4a93-d4ae-abcaba8fbda3"
      },
      "source": [
        "!cat ./ner_logs/MedicalNerApproach*"
      ],
      "execution_count": 36,
      "outputs": [
        {
          "output_type": "stream",
          "name": "stdout",
          "text": [
            "Name of the selected graph: pretrained graph\n",
            "Training started - total epochs: 2 - lr: 0.003 - batch size: 8 - labels: 3 - chars: 106 - training examples: 6347\n",
            "\n",
            "\n",
            "Epoch 1/2 started, lr: 0.003, dataset size: 6347\n",
            "\n",
            "\n",
            "Epoch 1/2 - 219.47s - loss: 1914.0813 - avg training loss: 2.4076495 - batches: 795\n",
            "Quality on test dataset: \n",
            "time to finish evaluation: 11.43s\n",
            "Total test loss: 136.1904\tAvg test loss: 2.0635\n",
            "label\t tp\t fp\t fn\t prec\t rec\t f1\n",
            "I-Disease\t 457\t 55\t 126\t 0.8925781\t 0.7838765\t 0.8347032\n",
            "B-Disease\t 427\t 83\t 91\t 0.8372549\t 0.8243243\t 0.8307393\n",
            "tp: 884 fp: 138 fn: 217 labels: 2\n",
            "Macro-average\t prec: 0.8649165, rec: 0.8041004, f1: 0.8334004\n",
            "Micro-average\t prec: 0.8649706, rec: 0.80290645, f1: 0.83278376\n",
            "\n",
            "\n",
            "Epoch 2/2 started, lr: 0.0029850747, dataset size: 6347\n",
            "\n",
            "\n",
            "Epoch 2/2 - 199.19s - loss: 896.9583 - avg training loss: 1.1282494 - batches: 795\n",
            "Quality on test dataset: \n",
            "time to finish evaluation: 10.58s\n",
            "Total test loss: 108.0300\tAvg test loss: 1.6368\n",
            "label\t tp\t fp\t fn\t prec\t rec\t f1\n",
            "I-Disease\t 525\t 127\t 58\t 0.8052147\t 0.9005146\t 0.8502025\n",
            "B-Disease\t 451\t 81\t 67\t 0.84774435\t 0.8706564\t 0.85904765\n",
            "tp: 976 fp: 208 fn: 125 labels: 2\n",
            "Macro-average\t prec: 0.82647955, rec: 0.8855855, f1: 0.85501224\n",
            "Micro-average\t prec: 0.8243243, rec: 0.88646686, f1: 0.854267\n"
          ]
        }
      ]
    },
    {
      "cell_type": "code",
      "metadata": {
        "id": "yKeO-Kqcbb7i",
        "colab": {
          "base_uri": "https://localhost:8080/"
        },
        "outputId": "46a89108-15f1-48c1-cede-241396352d62"
      },
      "source": [
        "from sparknlp_jsl.eval import NerDLMetrics\n",
        "import pyspark.sql.functions as F\n",
        "\n",
        "pred_df = ner_jsl_retrained.stages[1].transform(clinical_embeddings.transform(test_data_2))\n",
        "\n",
        "evaler = NerDLMetrics(mode=\"full_chunk\", dropO=True)\n",
        "\n",
        "eval_result = evaler.computeMetricsFromDF(pred_df.select(\"label\",\"ner\"), prediction_col=\"ner\", label_col=\"label\").cache()\n",
        "\n",
        "eval_result.withColumn(\"precision\", F.round(eval_result[\"precision\"],4))\\\n",
        "    .withColumn(\"recall\", F.round(eval_result[\"recall\"],4))\\\n",
        "    .withColumn(\"f1\", F.round(eval_result[\"f1\"],4)).show(100)\n",
        "\n",
        "print(eval_result.selectExpr(\"avg(f1) as macro\").show())\n",
        "print (eval_result.selectExpr(\"sum(f1*total) as sumprod\",\"sum(total) as sumtotal\").selectExpr(\"sumprod/sumtotal as micro\").show())"
      ],
      "execution_count": 37,
      "outputs": [
        {
          "output_type": "stream",
          "name": "stdout",
          "text": [
            "+-------+-----+----+----+-----+---------+------+------+\n",
            "| entity|   tp|  fp|  fn|total|precision|recall|    f1|\n",
            "+-------+-----+----+----+-----+---------+------+------+\n",
            "|Disease|444.0|88.0|71.0|515.0|   0.8346|0.8621|0.8481|\n",
            "+-------+-----+----+----+-----+---------+------+------+\n",
            "\n",
            "+------------------+\n",
            "|             macro|\n",
            "+------------------+\n",
            "|0.8481375358166189|\n",
            "+------------------+\n",
            "\n",
            "None\n",
            "+------------------+\n",
            "|             micro|\n",
            "+------------------+\n",
            "|0.8481375358166189|\n",
            "+------------------+\n",
            "\n",
            "None\n"
          ]
        }
      ]
    }
  ]
}