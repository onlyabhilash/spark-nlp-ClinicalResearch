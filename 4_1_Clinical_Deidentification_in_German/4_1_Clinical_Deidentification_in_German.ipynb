{
  "cells": [
    {
      "cell_type": "markdown",
      "metadata": {
        "id": "view-in-github",
        "colab_type": "text"
      },
      "source": [
        "<a href=\"https://colab.research.google.com/github/onlyabhilash/spark-nlp-ClinicalResearch/blob/main/4_1_Clinical_Deidentification_in_German/4_1_Clinical_Deidentification_in_German.ipynb\" target=\"_parent\"><img src=\"https://colab.research.google.com/assets/colab-badge.svg\" alt=\"Open In Colab\"/></a>"
      ]
    },
    {
      "cell_type": "markdown",
      "metadata": {
        "id": "FwJ-P56kq6FU"
      },
      "source": [
        "[![Open In Colab](https://colab.research.google.com/assets/colab-badge.svg)](https://colab.research.google.com/github/JohnSnowLabs/spark-nlp-workshop/blob/master/tutorials/Certification_Trainings/Healthcare/4.1.Clinical_Deidentification_in_German.ipynb)"
      ]
    },
    {
      "cell_type": "markdown",
      "metadata": {
        "id": "Z7X1prqVxdB2"
      },
      "source": [
        "# Clinical Deidentification in German\n",
        "\n",
        "**Protected Health Information**:\n",
        "\n",
        "Individual’s past, present, or future physical or mental health or condition\n",
        "provision of health care to the individual\n",
        "past, present, or future payment for the health care\n",
        "Protected health information includes many common identifiers (e.g., name, address, birth date, Social Security Number) when they can be associated with the health information."
      ]
    },
    {
      "cell_type": "code",
      "execution_count": 1,
      "metadata": {
        "id": "RWh6i1PtvE77",
        "colab": {
          "resources": {
            "http://localhost:8080/nbextensions/google.colab/files.js": {
              "data": "Ly8gQ29weXJpZ2h0IDIwMTcgR29vZ2xlIExMQwovLwovLyBMaWNlbnNlZCB1bmRlciB0aGUgQXBhY2hlIExpY2Vuc2UsIFZlcnNpb24gMi4wICh0aGUgIkxpY2Vuc2UiKTsKLy8geW91IG1heSBub3QgdXNlIHRoaXMgZmlsZSBleGNlcHQgaW4gY29tcGxpYW5jZSB3aXRoIHRoZSBMaWNlbnNlLgovLyBZb3UgbWF5IG9idGFpbiBhIGNvcHkgb2YgdGhlIExpY2Vuc2UgYXQKLy8KLy8gICAgICBodHRwOi8vd3d3LmFwYWNoZS5vcmcvbGljZW5zZXMvTElDRU5TRS0yLjAKLy8KLy8gVW5sZXNzIHJlcXVpcmVkIGJ5IGFwcGxpY2FibGUgbGF3IG9yIGFncmVlZCB0byBpbiB3cml0aW5nLCBzb2Z0d2FyZQovLyBkaXN0cmlidXRlZCB1bmRlciB0aGUgTGljZW5zZSBpcyBkaXN0cmlidXRlZCBvbiBhbiAiQVMgSVMiIEJBU0lTLAovLyBXSVRIT1VUIFdBUlJBTlRJRVMgT1IgQ09ORElUSU9OUyBPRiBBTlkgS0lORCwgZWl0aGVyIGV4cHJlc3Mgb3IgaW1wbGllZC4KLy8gU2VlIHRoZSBMaWNlbnNlIGZvciB0aGUgc3BlY2lmaWMgbGFuZ3VhZ2UgZ292ZXJuaW5nIHBlcm1pc3Npb25zIGFuZAovLyBsaW1pdGF0aW9ucyB1bmRlciB0aGUgTGljZW5zZS4KCi8qKgogKiBAZmlsZW92ZXJ2aWV3IEhlbHBlcnMgZm9yIGdvb2dsZS5jb2xhYiBQeXRob24gbW9kdWxlLgogKi8KKGZ1bmN0aW9uKHNjb3BlKSB7CmZ1bmN0aW9uIHNwYW4odGV4dCwgc3R5bGVBdHRyaWJ1dGVzID0ge30pIHsKICBjb25zdCBlbGVtZW50ID0gZG9jdW1lbnQuY3JlYXRlRWxlbWVudCgnc3BhbicpOwogIGVsZW1lbnQudGV4dENvbnRlbnQgPSB0ZXh0OwogIGZvciAoY29uc3Qga2V5IG9mIE9iamVjdC5rZXlzKHN0eWxlQXR0cmlidXRlcykpIHsKICAgIGVsZW1lbnQuc3R5bGVba2V5XSA9IHN0eWxlQXR0cmlidXRlc1trZXldOwogIH0KICByZXR1cm4gZWxlbWVudDsKfQoKLy8gTWF4IG51bWJlciBvZiBieXRlcyB3aGljaCB3aWxsIGJlIHVwbG9hZGVkIGF0IGEgdGltZS4KY29uc3QgTUFYX1BBWUxPQURfU0laRSA9IDEwMCAqIDEwMjQ7CgpmdW5jdGlvbiBfdXBsb2FkRmlsZXMoaW5wdXRJZCwgb3V0cHV0SWQpIHsKICBjb25zdCBzdGVwcyA9IHVwbG9hZEZpbGVzU3RlcChpbnB1dElkLCBvdXRwdXRJZCk7CiAgY29uc3Qgb3V0cHV0RWxlbWVudCA9IGRvY3VtZW50LmdldEVsZW1lbnRCeUlkKG91dHB1dElkKTsKICAvLyBDYWNoZSBzdGVwcyBvbiB0aGUgb3V0cHV0RWxlbWVudCB0byBtYWtlIGl0IGF2YWlsYWJsZSBmb3IgdGhlIG5leHQgY2FsbAogIC8vIHRvIHVwbG9hZEZpbGVzQ29udGludWUgZnJvbSBQeXRob24uCiAgb3V0cHV0RWxlbWVudC5zdGVwcyA9IHN0ZXBzOwoKICByZXR1cm4gX3VwbG9hZEZpbGVzQ29udGludWUob3V0cHV0SWQpOwp9CgovLyBUaGlzIGlzIHJvdWdobHkgYW4gYXN5bmMgZ2VuZXJhdG9yIChub3Qgc3VwcG9ydGVkIGluIHRoZSBicm93c2VyIHlldCksCi8vIHdoZXJlIHRoZXJlIGFyZSBtdWx0aXBsZSBhc3luY2hyb25vdXMgc3RlcHMgYW5kIHRoZSBQeXRob24gc2lkZSBpcyBnb2luZwovLyB0byBwb2xsIGZvciBjb21wbGV0aW9uIG9mIGVhY2ggc3RlcC4KLy8gVGhpcyB1c2VzIGEgUHJvbWlzZSB0byBibG9jayB0aGUgcHl0aG9uIHNpZGUgb24gY29tcGxldGlvbiBvZiBlYWNoIHN0ZXAsCi8vIHRoZW4gcGFzc2VzIHRoZSByZXN1bHQgb2YgdGhlIHByZXZpb3VzIHN0ZXAgYXMgdGhlIGlucHV0IHRvIHRoZSBuZXh0IHN0ZXAuCmZ1bmN0aW9uIF91cGxvYWRGaWxlc0NvbnRpbnVlKG91dHB1dElkKSB7CiAgY29uc3Qgb3V0cHV0RWxlbWVudCA9IGRvY3VtZW50LmdldEVsZW1lbnRCeUlkKG91dHB1dElkKTsKICBjb25zdCBzdGVwcyA9IG91dHB1dEVsZW1lbnQuc3RlcHM7CgogIGNvbnN0IG5leHQgPSBzdGVwcy5uZXh0KG91dHB1dEVsZW1lbnQubGFzdFByb21pc2VWYWx1ZSk7CiAgcmV0dXJuIFByb21pc2UucmVzb2x2ZShuZXh0LnZhbHVlLnByb21pc2UpLnRoZW4oKHZhbHVlKSA9PiB7CiAgICAvLyBDYWNoZSB0aGUgbGFzdCBwcm9taXNlIHZhbHVlIHRvIG1ha2UgaXQgYXZhaWxhYmxlIHRvIHRoZSBuZXh0CiAgICAvLyBzdGVwIG9mIHRoZSBnZW5lcmF0b3IuCiAgICBvdXRwdXRFbGVtZW50Lmxhc3RQcm9taXNlVmFsdWUgPSB2YWx1ZTsKICAgIHJldHVybiBuZXh0LnZhbHVlLnJlc3BvbnNlOwogIH0pOwp9CgovKioKICogR2VuZXJhdG9yIGZ1bmN0aW9uIHdoaWNoIGlzIGNhbGxlZCBiZXR3ZWVuIGVhY2ggYXN5bmMgc3RlcCBvZiB0aGUgdXBsb2FkCiAqIHByb2Nlc3MuCiAqIEBwYXJhbSB7c3RyaW5nfSBpbnB1dElkIEVsZW1lbnQgSUQgb2YgdGhlIGlucHV0IGZpbGUgcGlja2VyIGVsZW1lbnQuCiAqIEBwYXJhbSB7c3RyaW5nfSBvdXRwdXRJZCBFbGVtZW50IElEIG9mIHRoZSBvdXRwdXQgZGlzcGxheS4KICogQHJldHVybiB7IUl0ZXJhYmxlPCFPYmplY3Q+fSBJdGVyYWJsZSBvZiBuZXh0IHN0ZXBzLgogKi8KZnVuY3Rpb24qIHVwbG9hZEZpbGVzU3RlcChpbnB1dElkLCBvdXRwdXRJZCkgewogIGNvbnN0IGlucHV0RWxlbWVudCA9IGRvY3VtZW50LmdldEVsZW1lbnRCeUlkKGlucHV0SWQpOwogIGlucHV0RWxlbWVudC5kaXNhYmxlZCA9IGZhbHNlOwoKICBjb25zdCBvdXRwdXRFbGVtZW50ID0gZG9jdW1lbnQuZ2V0RWxlbWVudEJ5SWQob3V0cHV0SWQpOwogIG91dHB1dEVsZW1lbnQuaW5uZXJIVE1MID0gJyc7CgogIGNvbnN0IHBpY2tlZFByb21pc2UgPSBuZXcgUHJvbWlzZSgocmVzb2x2ZSkgPT4gewogICAgaW5wdXRFbGVtZW50LmFkZEV2ZW50TGlzdGVuZXIoJ2NoYW5nZScsIChlKSA9PiB7CiAgICAgIHJlc29sdmUoZS50YXJnZXQuZmlsZXMpOwogICAgfSk7CiAgfSk7CgogIGNvbnN0IGNhbmNlbCA9IGRvY3VtZW50LmNyZWF0ZUVsZW1lbnQoJ2J1dHRvbicpOwogIGlucHV0RWxlbWVudC5wYXJlbnRFbGVtZW50LmFwcGVuZENoaWxkKGNhbmNlbCk7CiAgY2FuY2VsLnRleHRDb250ZW50ID0gJ0NhbmNlbCB1cGxvYWQnOwogIGNvbnN0IGNhbmNlbFByb21pc2UgPSBuZXcgUHJvbWlzZSgocmVzb2x2ZSkgPT4gewogICAgY2FuY2VsLm9uY2xpY2sgPSAoKSA9PiB7CiAgICAgIHJlc29sdmUobnVsbCk7CiAgICB9OwogIH0pOwoKICAvLyBXYWl0IGZvciB0aGUgdXNlciB0byBwaWNrIHRoZSBmaWxlcy4KICBjb25zdCBmaWxlcyA9IHlpZWxkIHsKICAgIHByb21pc2U6IFByb21pc2UucmFjZShbcGlja2VkUHJvbWlzZSwgY2FuY2VsUHJvbWlzZV0pLAogICAgcmVzcG9uc2U6IHsKICAgICAgYWN0aW9uOiAnc3RhcnRpbmcnLAogICAgfQogIH07CgogIGNhbmNlbC5yZW1vdmUoKTsKCiAgLy8gRGlzYWJsZSB0aGUgaW5wdXQgZWxlbWVudCBzaW5jZSBmdXJ0aGVyIHBpY2tzIGFyZSBub3QgYWxsb3dlZC4KICBpbnB1dEVsZW1lbnQuZGlzYWJsZWQgPSB0cnVlOwoKICBpZiAoIWZpbGVzKSB7CiAgICByZXR1cm4gewogICAgICByZXNwb25zZTogewogICAgICAgIGFjdGlvbjogJ2NvbXBsZXRlJywKICAgICAgfQogICAgfTsKICB9CgogIGZvciAoY29uc3QgZmlsZSBvZiBmaWxlcykgewogICAgY29uc3QgbGkgPSBkb2N1bWVudC5jcmVhdGVFbGVtZW50KCdsaScpOwogICAgbGkuYXBwZW5kKHNwYW4oZmlsZS5uYW1lLCB7Zm9udFdlaWdodDogJ2JvbGQnfSkpOwogICAgbGkuYXBwZW5kKHNwYW4oCiAgICAgICAgYCgke2ZpbGUudHlwZSB8fCAnbi9hJ30pIC0gJHtmaWxlLnNpemV9IGJ5dGVzLCBgICsKICAgICAgICBgbGFzdCBtb2RpZmllZDogJHsKICAgICAgICAgICAgZmlsZS5sYXN0TW9kaWZpZWREYXRlID8gZmlsZS5sYXN0TW9kaWZpZWREYXRlLnRvTG9jYWxlRGF0ZVN0cmluZygpIDoKICAgICAgICAgICAgICAgICAgICAgICAgICAgICAgICAgICAgJ24vYSd9IC0gYCkpOwogICAgY29uc3QgcGVyY2VudCA9IHNwYW4oJzAlIGRvbmUnKTsKICAgIGxpLmFwcGVuZENoaWxkKHBlcmNlbnQpOwoKICAgIG91dHB1dEVsZW1lbnQuYXBwZW5kQ2hpbGQobGkpOwoKICAgIGNvbnN0IGZpbGVEYXRhUHJvbWlzZSA9IG5ldyBQcm9taXNlKChyZXNvbHZlKSA9PiB7CiAgICAgIGNvbnN0IHJlYWRlciA9IG5ldyBGaWxlUmVhZGVyKCk7CiAgICAgIHJlYWRlci5vbmxvYWQgPSAoZSkgPT4gewogICAgICAgIHJlc29sdmUoZS50YXJnZXQucmVzdWx0KTsKICAgICAgfTsKICAgICAgcmVhZGVyLnJlYWRBc0FycmF5QnVmZmVyKGZpbGUpOwogICAgfSk7CiAgICAvLyBXYWl0IGZvciB0aGUgZGF0YSB0byBiZSByZWFkeS4KICAgIGxldCBmaWxlRGF0YSA9IHlpZWxkIHsKICAgICAgcHJvbWlzZTogZmlsZURhdGFQcm9taXNlLAogICAgICByZXNwb25zZTogewogICAgICAgIGFjdGlvbjogJ2NvbnRpbnVlJywKICAgICAgfQogICAgfTsKCiAgICAvLyBVc2UgYSBjaHVua2VkIHNlbmRpbmcgdG8gYXZvaWQgbWVzc2FnZSBzaXplIGxpbWl0cy4gU2VlIGIvNjIxMTU2NjAuCiAgICBsZXQgcG9zaXRpb24gPSAwOwogICAgZG8gewogICAgICBjb25zdCBsZW5ndGggPSBNYXRoLm1pbihmaWxlRGF0YS5ieXRlTGVuZ3RoIC0gcG9zaXRpb24sIE1BWF9QQVlMT0FEX1NJWkUpOwogICAgICBjb25zdCBjaHVuayA9IG5ldyBVaW50OEFycmF5KGZpbGVEYXRhLCBwb3NpdGlvbiwgbGVuZ3RoKTsKICAgICAgcG9zaXRpb24gKz0gbGVuZ3RoOwoKICAgICAgY29uc3QgYmFzZTY0ID0gYnRvYShTdHJpbmcuZnJvbUNoYXJDb2RlLmFwcGx5KG51bGwsIGNodW5rKSk7CiAgICAgIHlpZWxkIHsKICAgICAgICByZXNwb25zZTogewogICAgICAgICAgYWN0aW9uOiAnYXBwZW5kJywKICAgICAgICAgIGZpbGU6IGZpbGUubmFtZSwKICAgICAgICAgIGRhdGE6IGJhc2U2NCwKICAgICAgICB9LAogICAgICB9OwoKICAgICAgbGV0IHBlcmNlbnREb25lID0gZmlsZURhdGEuYnl0ZUxlbmd0aCA9PT0gMCA/CiAgICAgICAgICAxMDAgOgogICAgICAgICAgTWF0aC5yb3VuZCgocG9zaXRpb24gLyBmaWxlRGF0YS5ieXRlTGVuZ3RoKSAqIDEwMCk7CiAgICAgIHBlcmNlbnQudGV4dENvbnRlbnQgPSBgJHtwZXJjZW50RG9uZX0lIGRvbmVgOwoKICAgIH0gd2hpbGUgKHBvc2l0aW9uIDwgZmlsZURhdGEuYnl0ZUxlbmd0aCk7CiAgfQoKICAvLyBBbGwgZG9uZS4KICB5aWVsZCB7CiAgICByZXNwb25zZTogewogICAgICBhY3Rpb246ICdjb21wbGV0ZScsCiAgICB9CiAgfTsKfQoKc2NvcGUuZ29vZ2xlID0gc2NvcGUuZ29vZ2xlIHx8IHt9OwpzY29wZS5nb29nbGUuY29sYWIgPSBzY29wZS5nb29nbGUuY29sYWIgfHwge307CnNjb3BlLmdvb2dsZS5jb2xhYi5fZmlsZXMgPSB7CiAgX3VwbG9hZEZpbGVzLAogIF91cGxvYWRGaWxlc0NvbnRpbnVlLAp9Owp9KShzZWxmKTsK",
              "ok": true,
              "headers": [
                [
                  "content-type",
                  "application/javascript"
                ]
              ],
              "status": 200,
              "status_text": ""
            }
          },
          "base_uri": "https://localhost:8080/",
          "height": 73
        },
        "outputId": "92ab2aee-cb64-4dd5-f61a-530fb14bf110"
      },
      "outputs": [
        {
          "output_type": "display_data",
          "data": {
            "text/plain": [
              "<IPython.core.display.HTML object>"
            ],
            "text/html": [
              "\n",
              "     <input type=\"file\" id=\"files-4bf02bd8-7c7f-4391-ad5b-ee2929d7f6cc\" name=\"files[]\" multiple disabled\n",
              "        style=\"border:none\" />\n",
              "     <output id=\"result-4bf02bd8-7c7f-4391-ad5b-ee2929d7f6cc\">\n",
              "      Upload widget is only available when the cell has been executed in the\n",
              "      current browser session. Please rerun this cell to enable.\n",
              "      </output>\n",
              "      <script src=\"/nbextensions/google.colab/files.js\"></script> "
            ]
          },
          "metadata": {}
        },
        {
          "output_type": "stream",
          "name": "stdout",
          "text": [
            "Saving spark_nlp_for_healthcare_spark_ocr_4790.json to spark_nlp_for_healthcare_spark_ocr_4790.json\n"
          ]
        }
      ],
      "source": [
        "import json\n",
        "import os\n",
        "\n",
        "from google.colab import files\n",
        "\n",
        "if 'spark_jsl.json' not in os.listdir():\n",
        "  license_keys = files.upload()\n",
        "  os.rename(list(license_keys.keys())[0], 'spark_jsl.json')\n",
        "\n",
        "with open('spark_jsl.json') as f:\n",
        "    license_keys = json.load(f)\n",
        "\n",
        "# Defining license key-value pairs as local variables\n",
        "locals().update(license_keys)\n",
        "os.environ.update(license_keys)"
      ]
    },
    {
      "cell_type": "code",
      "execution_count": 2,
      "metadata": {
        "id": "MfOGbhC2wTyp",
        "colab": {
          "base_uri": "https://localhost:8080/"
        },
        "outputId": "bc071876-e556-4c6a-fa20-3c5bb0ee6df6"
      },
      "outputs": [
        {
          "output_type": "stream",
          "name": "stdout",
          "text": [
            "\u001b[K     |████████████████████████████████| 212.4 MB 77 kB/s \n",
            "\u001b[K     |████████████████████████████████| 198 kB 43.5 MB/s \n",
            "\u001b[?25h  Building wheel for pyspark (setup.py) ... \u001b[?25l\u001b[?25hdone\n",
            "\u001b[K     |████████████████████████████████| 188 kB 4.8 MB/s \n",
            "\u001b[K     |████████████████████████████████| 142 kB 5.5 MB/s \n",
            "\u001b[?25h"
          ]
        }
      ],
      "source": [
        "# Installing pyspark and spark-nlp\n",
        "! pip install --upgrade -q pyspark==3.1.2\n",
        "\n",
        "# Installing Spark NLP Healthcare\n",
        "! pip install --upgrade -q spark-nlp-jsl==$JSL_VERSION  --extra-index-url https://pypi.johnsnowlabs.com/$SECRET"
      ]
    },
    {
      "cell_type": "code",
      "execution_count": 3,
      "metadata": {
        "colab": {
          "base_uri": "https://localhost:8080/",
          "height": 254
        },
        "id": "nou6cgDm35Vq",
        "outputId": "f809c4d9-4fba-4074-86d7-11d18c3efdd9"
      },
      "outputs": [
        {
          "output_type": "stream",
          "name": "stdout",
          "text": [
            "Spark NLP Version : 3.4.2\n",
            "Spark NLP_JSL Version : 3.5.0\n"
          ]
        },
        {
          "output_type": "execute_result",
          "data": {
            "text/plain": [
              "<pyspark.sql.session.SparkSession at 0x7ffa109812d0>"
            ],
            "text/html": [
              "\n",
              "            <div>\n",
              "                <p><b>SparkSession - in-memory</b></p>\n",
              "                \n",
              "        <div>\n",
              "            <p><b>SparkContext</b></p>\n",
              "\n",
              "            <p><a href=\"http://000ce977624a:4040\">Spark UI</a></p>\n",
              "\n",
              "            <dl>\n",
              "              <dt>Version</dt>\n",
              "                <dd><code>v3.1.2</code></dd>\n",
              "              <dt>Master</dt>\n",
              "                <dd><code>local[*]</code></dd>\n",
              "              <dt>AppName</dt>\n",
              "                <dd><code>Spark NLP Licensed</code></dd>\n",
              "            </dl>\n",
              "        </div>\n",
              "        \n",
              "            </div>\n",
              "        "
            ]
          },
          "metadata": {},
          "execution_count": 3
        }
      ],
      "source": [
        "import sys\n",
        "import os\n",
        "import json\n",
        "import pandas as pd\n",
        "import string\n",
        "import numpy as np\n",
        "\n",
        "import sparknlp\n",
        "import sparknlp_jsl\n",
        "\n",
        "from pyspark.ml import Pipeline, PipelineModel\n",
        "from pyspark.sql import functions as F\n",
        "from pyspark.sql import SparkSession\n",
        "\n",
        "from sparknlp.base import *\n",
        "from sparknlp.annotator import *\n",
        "from sparknlp.pretrained import ResourceDownloader\n",
        "from sparknlp.util import *\n",
        "from sparknlp_jsl.annotator import *\n",
        "\n",
        "params = {\"spark.driver.memory\":\"16G\", \n",
        "          \"spark.kryoserializer.buffer.max\":\"2000M\", \n",
        "          \"spark.driver.maxResultSize\":\"2000M\"} \n",
        "\n",
        "spark = sparknlp_jsl.start(SECRET, params=params)\n",
        "\n",
        "print(\"Spark NLP Version :\", sparknlp.version())\n",
        "print(\"Spark NLP_JSL Version :\", sparknlp_jsl.version())\n",
        "\n",
        "spark"
      ]
    },
    {
      "cell_type": "markdown",
      "metadata": {
        "id": "VAyEoiHVuhbp"
      },
      "source": [
        "# 1. German NER Deidentification Models "
      ]
    },
    {
      "cell_type": "markdown",
      "metadata": {
        "id": "e7buMgvyQ7Fg"
      },
      "source": [
        "|index|model|index|model|\n",
        "|-----:|:-----|-----:|:-----|\n",
        "| 1| [ner_deid_generic]()| 2| [ner_deid_subentity]()|\n",
        "| 3| [ner_deid_generic_pipeline]()| 4| [ner_deid_subentity_pipeline]()|"
      ]
    },
    {
      "cell_type": "markdown",
      "metadata": {
        "id": "V1eksdJQoF4e"
      },
      "source": [
        "### Creating pipeline"
      ]
    },
    {
      "cell_type": "code",
      "execution_count": 4,
      "metadata": {
        "colab": {
          "base_uri": "https://localhost:8080/"
        },
        "id": "snKDCdXwoNy4",
        "outputId": "47a2a4cc-7a35-4680-db51-f11785498c19"
      },
      "outputs": [
        {
          "output_type": "stream",
          "name": "stdout",
          "text": [
            "sentence_detector_dl download started this may take some time.\n",
            "Approximate size to download 514.9 KB\n",
            "[OK!]\n",
            "w2v_cc_300d download started this may take some time.\n",
            "Approximate size to download 1.2 GB\n",
            "[OK!]\n"
          ]
        }
      ],
      "source": [
        "# Annotator that transforms a text column from dataframe into an Annotation ready for NLP\n",
        "documentAssembler = DocumentAssembler()\\\n",
        "    .setInputCol(\"text\")\\\n",
        "    .setOutputCol(\"document\")\n",
        "\n",
        "sentencerDL = SentenceDetectorDLModel.pretrained(\"sentence_detector_dl\", \"xx\") \\\n",
        "    .setInputCols([\"document\"])\\\n",
        "    .setOutputCol(\"sentence\")\n",
        "\n",
        "# Tokenizer splits words in a relevant format for NLP\n",
        "tokenizer = Tokenizer()\\\n",
        "    .setInputCols([\"sentence\"])\\\n",
        "    .setOutputCol(\"token\")\n",
        "\n",
        "word_embeddings = WordEmbeddingsModel.pretrained(\"w2v_cc_300d\",\"de\",\"clinical/models\")\\\n",
        "    .setInputCols([\"document\",\"token\"])\\\n",
        "\t  .setOutputCol(\"embeddings\")"
      ]
    },
    {
      "cell_type": "markdown",
      "metadata": {
        "id": "3ZuJrSX6tT9m"
      },
      "source": [
        "## 1.1. NER Deid Generic\n",
        "\n",
        "**`ner_deid_generic`** extracts:\n",
        "- Name\n",
        "- Profession\n",
        "- Age\n",
        "- Date\n",
        "- Contact (Telephone numbers, FAX numbers, Email addresses)\n",
        "- Location (Address, City, Postal code, Hospital Name, Employment information)\n",
        "- Id (Social Security numbers, Medical record numbers, Internet protocol addresses)\n",
        "\n"
      ]
    },
    {
      "cell_type": "code",
      "execution_count": 5,
      "metadata": {
        "colab": {
          "base_uri": "https://localhost:8080/"
        },
        "id": "C-qUIvqpsjV0",
        "outputId": "cbccdb77-3072-4d2c-90d0-cee406fd3ea4"
      },
      "outputs": [
        {
          "output_type": "stream",
          "name": "stdout",
          "text": [
            "ner_deid_generic download started this may take some time.\n",
            "Approximate size to download 14.3 MB\n",
            "[OK!]\n"
          ]
        }
      ],
      "source": [
        "ner_generic = MedicalNerModel.pretrained(\"ner_deid_generic\", \"de\", \"clinical/models\")\\\n",
        "    .setInputCols([\"sentence\",\"token\",\"embeddings\"])\\\n",
        "    .setOutputCol(\"ner_deid_generic\")\n",
        "\n",
        "ner_converter_generic = NerConverter()\\\n",
        "    .setInputCols([\"sentence\",\"token\",\"ner_deid_generic\"])\\\n",
        "    .setOutputCol(\"ner_chunk_generic\")"
      ]
    },
    {
      "cell_type": "code",
      "execution_count": 6,
      "metadata": {
        "colab": {
          "base_uri": "https://localhost:8080/"
        },
        "id": "j7Xy9E_hxN5y",
        "outputId": "7c1deca3-6cb0-4756-849a-677b1ac4c049"
      },
      "outputs": [
        {
          "output_type": "execute_result",
          "data": {
            "text/plain": [
              "['O',\n",
              " 'I-LOCATION',\n",
              " 'B-DATE',\n",
              " 'I-NAME',\n",
              " 'B-LOCATION',\n",
              " 'I-DATE',\n",
              " 'B-ID',\n",
              " 'B-AGE',\n",
              " 'B-CONTACT',\n",
              " 'B-PROFESSION',\n",
              " 'B-NAME']"
            ]
          },
          "metadata": {},
          "execution_count": 6
        }
      ],
      "source": [
        "ner_generic.getClasses()"
      ]
    },
    {
      "cell_type": "markdown",
      "metadata": {
        "id": "3NjkLF70tYdZ"
      },
      "source": [
        "## 1.2. NER Deid Subentity\n",
        "\n",
        "**`ner_deid_subentity`** extracts:\n",
        "\n",
        "- Patient\n",
        "- Doctor\n",
        "- Hospital\n",
        "- Date\n",
        "- Organization\n",
        "- City\n",
        "- Street\n",
        "- User Name\n",
        "- Profession\n",
        "- Phone\n",
        "- Country\n",
        "- Age"
      ]
    },
    {
      "cell_type": "code",
      "execution_count": 7,
      "metadata": {
        "colab": {
          "base_uri": "https://localhost:8080/"
        },
        "id": "C8n-h6D9tJXx",
        "outputId": "b7588eb5-429e-4e43-e9db-379a388a84aa"
      },
      "outputs": [
        {
          "output_type": "stream",
          "name": "stdout",
          "text": [
            "ner_deid_subentity download started this may take some time.\n",
            "Approximate size to download 14.3 MB\n",
            "[OK!]\n"
          ]
        }
      ],
      "source": [
        "ner_subentity = MedicalNerModel.pretrained(\"ner_deid_subentity\", \"de\", \"clinical/models\")\\\n",
        "    .setInputCols([\"sentence\",\"token\",\"embeddings\"])\\\n",
        "    .setOutputCol(\"ner_deid_subentity\")\n",
        "\n",
        "ner_converter_subentity = NerConverter()\\\n",
        "    .setInputCols([\"sentence\", \"token\", \"ner_deid_subentity\"])\\\n",
        "    .setOutputCol(\"ner_chunk_subentity\")"
      ]
    },
    {
      "cell_type": "code",
      "execution_count": 8,
      "metadata": {
        "colab": {
          "base_uri": "https://localhost:8080/"
        },
        "id": "Oda9sjHDxRyi",
        "outputId": "2491a6b3-1889-4dd2-fcfc-e7e6ec7a675f"
      },
      "outputs": [
        {
          "output_type": "execute_result",
          "data": {
            "text/plain": [
              "['O',\n",
              " 'B-ORGANIZATION',\n",
              " 'I-DOCTOR',\n",
              " 'B-DOCTOR',\n",
              " 'B-USERNAME',\n",
              " 'I-CITY',\n",
              " 'I-DATE',\n",
              " 'B-COUNTRY',\n",
              " 'B-PROFESSION',\n",
              " 'I-STREET',\n",
              " 'I-PATIENT',\n",
              " 'B-PHONE',\n",
              " 'B-CITY',\n",
              " 'B-HOSPITAL',\n",
              " 'B-DATE',\n",
              " 'B-STREET',\n",
              " 'B-PATIENT',\n",
              " 'I-ORGANIZATION',\n",
              " 'I-HOSPITAL',\n",
              " 'B-AGE',\n",
              " 'I-COUNTRY']"
            ]
          },
          "metadata": {},
          "execution_count": 8
        }
      ],
      "source": [
        "ner_subentity.getClasses()"
      ]
    },
    {
      "cell_type": "markdown",
      "metadata": {
        "id": "Eqg29dPuvl5f"
      },
      "source": [
        "## 1.4. Pipeline"
      ]
    },
    {
      "cell_type": "code",
      "execution_count": 9,
      "metadata": {
        "id": "P0HZXLF6ueWi"
      },
      "outputs": [],
      "source": [
        "nlpPipeline = Pipeline(stages=[\n",
        "      documentAssembler, \n",
        "      sentencerDL,\n",
        "      tokenizer,\n",
        "      word_embeddings,\n",
        "      ner_generic,\n",
        "      ner_converter_generic,\n",
        "      ner_subentity,\n",
        "      ner_converter_subentity,\n",
        "      ])\n",
        "\n",
        "empty_data = spark.createDataFrame([[\"\"]]).toDF(\"text\")\n",
        "\n",
        "model = nlpPipeline.fit(empty_data)"
      ]
    },
    {
      "cell_type": "code",
      "execution_count": 10,
      "metadata": {
        "id": "fG4Vc36EwhFk"
      },
      "outputs": [],
      "source": [
        "text = \"\"\"Michael Berger wird am Morgen des 12 Dezember 2018 ins St. Elisabeth-Krankenhaus in Bad Kissingen eingeliefert. Herr Berger ist 76 Jahre alt und hat zu viel Wasser in den Beinen.\"\"\"\n",
        "\n",
        "text_df = spark.createDataFrame([[text]]).toDF(\"text\")\n",
        "\n",
        "result = model.transform(text_df)\n"
      ]
    },
    {
      "cell_type": "markdown",
      "metadata": {
        "id": "y-CMPYTHz-L2"
      },
      "source": [
        "### Results for `ner_subentity`"
      ]
    },
    {
      "cell_type": "code",
      "execution_count": 11,
      "metadata": {
        "colab": {
          "base_uri": "https://localhost:8080/"
        },
        "id": "vEtBcyIjzLA3",
        "outputId": "db1e3ee3-acb3-49e6-bed4-78c55f242938"
      },
      "outputs": [
        {
          "output_type": "stream",
          "name": "stdout",
          "text": [
            "+--------------------------------------+---------+\n",
            "|chunk                                 |ner_label|\n",
            "+--------------------------------------+---------+\n",
            "|Michael Berger                        |PATIENT  |\n",
            "|12 Dezember 2018                      |DATE     |\n",
            "|Elisabeth-Krankenhaus in Bad Kissingen|HOSPITAL |\n",
            "|Berger                                |PATIENT  |\n",
            "|76                                    |AGE      |\n",
            "+--------------------------------------+---------+\n",
            "\n"
          ]
        }
      ],
      "source": [
        "result.select(F.explode(F.arrays_zip('ner_chunk_subentity.result', 'ner_chunk_subentity.metadata')).alias(\"cols\")) \\\n",
        "      .select(F.expr(\"cols['0']\").alias(\"chunk\"),\n",
        "              F.expr(\"cols['1']['entity']\").alias(\"ner_label\")).show(truncate=False)"
      ]
    },
    {
      "cell_type": "markdown",
      "metadata": {
        "id": "MNUKLQMi0GjT"
      },
      "source": [
        "### Results for `ner_generic`"
      ]
    },
    {
      "cell_type": "code",
      "execution_count": 12,
      "metadata": {
        "colab": {
          "base_uri": "https://localhost:8080/"
        },
        "id": "K2wDmdiFzwDb",
        "outputId": "48a3c513-6060-4a68-e1e6-7ecfeb95e6ef"
      },
      "outputs": [
        {
          "output_type": "stream",
          "name": "stdout",
          "text": [
            "+-------------------------+---------+\n",
            "|chunk                    |ner_label|\n",
            "+-------------------------+---------+\n",
            "|Michael Berger           |NAME     |\n",
            "|12 Dezember 2018         |DATE     |\n",
            "|St. Elisabeth-Krankenhaus|LOCATION |\n",
            "|Bad Kissingen            |LOCATION |\n",
            "|Berger                   |NAME     |\n",
            "|76                       |AGE      |\n",
            "+-------------------------+---------+\n",
            "\n"
          ]
        }
      ],
      "source": [
        "result.select(F.explode(F.arrays_zip('ner_chunk_generic.result', 'ner_chunk_generic.metadata')).alias(\"cols\")) \\\n",
        "      .select(F.expr(\"cols['0']\").alias(\"chunk\"),\n",
        "              F.expr(\"cols['1']['entity']\").alias(\"ner_label\")).show(truncate=False)"
      ]
    },
    {
      "cell_type": "markdown",
      "metadata": {
        "id": "Qh_G6UNYbrAl"
      },
      "source": [
        "## DeIdentification"
      ]
    },
    {
      "cell_type": "markdown",
      "metadata": {
        "id": "u-OTUyBK6yrt"
      },
      "source": [
        "### Obfuscation mode"
      ]
    },
    {
      "cell_type": "code",
      "execution_count": 13,
      "metadata": {
        "id": "pbJisU_u7Kpl"
      },
      "outputs": [],
      "source": [
        "# Downloading custom faker entity list.\n",
        "! wget -q https://raw.githubusercontent.com/JohnSnowLabs/spark-nlp-workshop/master/tutorials/Certification_Trainings/Healthcare/data/obfuscate.txt"
      ]
    },
    {
      "cell_type": "code",
      "execution_count": 14,
      "metadata": {
        "id": "CBo2T-sZ64IJ"
      },
      "outputs": [],
      "source": [
        "deid_masked_entity = DeIdentification()\\\n",
        "    .setInputCols([\"sentence\", \"token\", \"ner_chunk_subentity\"])\\\n",
        "    .setOutputCol(\"masked_with_entity\")\\\n",
        "    .setMode(\"mask\")\\\n",
        "    .setMaskingPolicy(\"entity_labels\")\\\n",
        "\n",
        "deid_masked_char = DeIdentification()\\\n",
        "    .setInputCols([\"sentence\", \"token\", \"ner_chunk_subentity\"])\\\n",
        "    .setOutputCol(\"masked_with_chars\")\\\n",
        "    .setMode(\"mask\")\\\n",
        "    .setMaskingPolicy(\"same_length_chars\")\\\n",
        "\n",
        "deid_masked_fixed_char = DeIdentification()\\\n",
        "    .setInputCols([\"sentence\", \"token\", \"ner_chunk_subentity\"])\\\n",
        "    .setOutputCol(\"masked_fixed_length_chars\")\\\n",
        "    .setMode(\"mask\")\\\n",
        "    .setMaskingPolicy(\"fixed_length_chars\")\\\n",
        "    .setFixedMaskLength(4)\\\n",
        "\n",
        "deid_obfuscated = DeIdentification()\\\n",
        "    .setInputCols([\"sentence\", \"token\", \"ner_chunk_subentity\"]) \\\n",
        "    .setOutputCol(\"obfuscated\") \\\n",
        "    .setMode(\"obfuscate\")\\\n",
        "    .setObfuscateDate(True)\\\n",
        "    .setObfuscateRefFile('obfuscate.txt')\\\n",
        "    .setObfuscateRefSource(\"file\")\\"
      ]
    },
    {
      "cell_type": "code",
      "execution_count": 34,
      "metadata": {
        "id": "h9pmXn0f75ST"
      },
      "outputs": [],
      "source": [
        "nlpPipeline = Pipeline(stages=[\n",
        "      documentAssembler, \n",
        "      sentencerDL,\n",
        "      tokenizer,\n",
        "      word_embeddings,\n",
        "      ner_subentity,\n",
        "      ner_converter_subentity,\n",
        "      deid_masked_entity,\n",
        "      deid_masked_char,\n",
        "      deid_masked_fixed_char,\n",
        "      deid_obfuscated\n",
        "      ])\n",
        "\n",
        "empty_data = spark.createDataFrame([[\"\"]]).toDF(\"text\")\n",
        "\n",
        "model = nlpPipeline.fit(empty_data)"
      ]
    },
    {
      "cell_type": "code",
      "execution_count": 16,
      "metadata": {
        "id": "oVOL3bwr8J18"
      },
      "outputs": [],
      "source": [
        "deid_lp = LightPipeline(model)"
      ]
    },
    {
      "cell_type": "code",
      "execution_count": 17,
      "metadata": {
        "id": "Maco1EiD8TK4"
      },
      "outputs": [],
      "source": [
        "text = \"\"\"Michael Berger wird am Morgen des 12 Dezember 2018 ins St. Elisabeth-Krankenhaus in Bad Kissingen eingeliefert. Herr Berger ist 76 Jahre alt und hat zu viel Wasser in den Beinen.\"\"\""
      ]
    },
    {
      "cell_type": "code",
      "execution_count": 18,
      "metadata": {
        "colab": {
          "base_uri": "https://localhost:8080/"
        },
        "id": "CXEmE1i78PX4",
        "outputId": "09b40874-5c63-4cc6-8964-e921227ae04b"
      },
      "outputs": [
        {
          "output_type": "stream",
          "name": "stdout",
          "text": [
            "<PATIENT> wird am Morgen des <DATE> ins St. <HOSPITAL> eingeliefert.\n",
            "Herr <PATIENT> ist <AGE> Jahre alt und hat zu viel Wasser in den Beinen.\n",
            "\n",
            "\n",
            "[************] wird am Morgen des [**************] ins St. [************************************] eingeliefert.\n",
            "Herr [****] ist ** Jahre alt und hat zu viel Wasser in den Beinen.\n",
            "\n",
            "\n",
            "**** wird am Morgen des **** ins St. **** eingeliefert.\n",
            "Herr **** ist **** Jahre alt und hat zu viel Wasser in den Beinen.\n",
            "\n",
            "\n",
            "Gertrude Gorlitz wird am Morgen des 12-13-2002 ins St. Radiologische Diagnostik eingeliefert.\n",
            "Herr Thies ist 79 Jahre alt und hat zu viel Wasser in den Beinen.\n"
          ]
        }
      ],
      "source": [
        "result = deid_lp.annotate(text)\n",
        "\n",
        "print(\"\\n\".join(result['masked_with_entity']))\n",
        "print(\"\\n\")\n",
        "print(\"\\n\".join(result['masked_with_chars']))\n",
        "print(\"\\n\")\n",
        "print(\"\\n\".join(result['masked_fixed_length_chars']))\n",
        "print(\"\\n\")\n",
        "print(\"\\n\".join(result['obfuscated']))"
      ]
    },
    {
      "cell_type": "code",
      "execution_count": 19,
      "metadata": {
        "colab": {
          "base_uri": "https://localhost:8080/",
          "height": 260
        },
        "id": "MhQudVrPHl6D",
        "outputId": "914751f0-a902-499e-dfad-09f57c447d45"
      },
      "outputs": [
        {
          "output_type": "execute_result",
          "data": {
            "text/plain": [
              "                                                                     Masked  \\\n",
              "0      <PATIENT> wird am Morgen des <DATE> ins St. <HOSPITAL> eingeliefert.   \n",
              "1  Herr <PATIENT> ist <AGE> Jahre alt und hat zu viel Wasser in den Beinen.   \n",
              "\n",
              "                                                                                     Masked with Chars  \\\n",
              "0  [************] wird am Morgen des [**************] ins St. [************************************...   \n",
              "1                                   Herr [****] ist ** Jahre alt und hat zu viel Wasser in den Beinen.   \n",
              "\n",
              "                                              Masked with Fixed Chars  \\\n",
              "0             **** wird am Morgen des **** ins St. **** eingeliefert.   \n",
              "1  Herr **** ist **** Jahre alt und hat zu viel Wasser in den Beinen.   \n",
              "\n",
              "                                                                                      Obfuscated  \n",
              "0  Gertrude Gorlitz wird am Morgen des 12-13-2002 ins St. Radiologische Diagnostik eingeliefert.  \n",
              "1                              Herr Thies ist 79 Jahre alt und hat zu viel Wasser in den Beinen.  "
            ],
            "text/html": [
              "\n",
              "  <div id=\"df-6d0690b1-153e-444d-8d2e-aa455474eb53\">\n",
              "    <div class=\"colab-df-container\">\n",
              "      <div>\n",
              "<style scoped>\n",
              "    .dataframe tbody tr th:only-of-type {\n",
              "        vertical-align: middle;\n",
              "    }\n",
              "\n",
              "    .dataframe tbody tr th {\n",
              "        vertical-align: top;\n",
              "    }\n",
              "\n",
              "    .dataframe thead th {\n",
              "        text-align: right;\n",
              "    }\n",
              "</style>\n",
              "<table border=\"1\" class=\"dataframe\">\n",
              "  <thead>\n",
              "    <tr style=\"text-align: right;\">\n",
              "      <th></th>\n",
              "      <th>Masked</th>\n",
              "      <th>Masked with Chars</th>\n",
              "      <th>Masked with Fixed Chars</th>\n",
              "      <th>Obfuscated</th>\n",
              "    </tr>\n",
              "  </thead>\n",
              "  <tbody>\n",
              "    <tr>\n",
              "      <th>0</th>\n",
              "      <td>&lt;PATIENT&gt; wird am Morgen des &lt;DATE&gt; ins St. &lt;HOSPITAL&gt; eingeliefert.</td>\n",
              "      <td>[************] wird am Morgen des [**************] ins St. [************************************...</td>\n",
              "      <td>**** wird am Morgen des **** ins St. **** eingeliefert.</td>\n",
              "      <td>Gertrude Gorlitz wird am Morgen des 12-13-2002 ins St. Radiologische Diagnostik eingeliefert.</td>\n",
              "    </tr>\n",
              "    <tr>\n",
              "      <th>1</th>\n",
              "      <td>Herr &lt;PATIENT&gt; ist &lt;AGE&gt; Jahre alt und hat zu viel Wasser in den Beinen.</td>\n",
              "      <td>Herr [****] ist ** Jahre alt und hat zu viel Wasser in den Beinen.</td>\n",
              "      <td>Herr **** ist **** Jahre alt und hat zu viel Wasser in den Beinen.</td>\n",
              "      <td>Herr Thies ist 79 Jahre alt und hat zu viel Wasser in den Beinen.</td>\n",
              "    </tr>\n",
              "  </tbody>\n",
              "</table>\n",
              "</div>\n",
              "      <button class=\"colab-df-convert\" onclick=\"convertToInteractive('df-6d0690b1-153e-444d-8d2e-aa455474eb53')\"\n",
              "              title=\"Convert this dataframe to an interactive table.\"\n",
              "              style=\"display:none;\">\n",
              "        \n",
              "  <svg xmlns=\"http://www.w3.org/2000/svg\" height=\"24px\"viewBox=\"0 0 24 24\"\n",
              "       width=\"24px\">\n",
              "    <path d=\"M0 0h24v24H0V0z\" fill=\"none\"/>\n",
              "    <path d=\"M18.56 5.44l.94 2.06.94-2.06 2.06-.94-2.06-.94-.94-2.06-.94 2.06-2.06.94zm-11 1L8.5 8.5l.94-2.06 2.06-.94-2.06-.94L8.5 2.5l-.94 2.06-2.06.94zm10 10l.94 2.06.94-2.06 2.06-.94-2.06-.94-.94-2.06-.94 2.06-2.06.94z\"/><path d=\"M17.41 7.96l-1.37-1.37c-.4-.4-.92-.59-1.43-.59-.52 0-1.04.2-1.43.59L10.3 9.45l-7.72 7.72c-.78.78-.78 2.05 0 2.83L4 21.41c.39.39.9.59 1.41.59.51 0 1.02-.2 1.41-.59l7.78-7.78 2.81-2.81c.8-.78.8-2.07 0-2.86zM5.41 20L4 18.59l7.72-7.72 1.47 1.35L5.41 20z\"/>\n",
              "  </svg>\n",
              "      </button>\n",
              "      \n",
              "  <style>\n",
              "    .colab-df-container {\n",
              "      display:flex;\n",
              "      flex-wrap:wrap;\n",
              "      gap: 12px;\n",
              "    }\n",
              "\n",
              "    .colab-df-convert {\n",
              "      background-color: #E8F0FE;\n",
              "      border: none;\n",
              "      border-radius: 50%;\n",
              "      cursor: pointer;\n",
              "      display: none;\n",
              "      fill: #1967D2;\n",
              "      height: 32px;\n",
              "      padding: 0 0 0 0;\n",
              "      width: 32px;\n",
              "    }\n",
              "\n",
              "    .colab-df-convert:hover {\n",
              "      background-color: #E2EBFA;\n",
              "      box-shadow: 0px 1px 2px rgba(60, 64, 67, 0.3), 0px 1px 3px 1px rgba(60, 64, 67, 0.15);\n",
              "      fill: #174EA6;\n",
              "    }\n",
              "\n",
              "    [theme=dark] .colab-df-convert {\n",
              "      background-color: #3B4455;\n",
              "      fill: #D2E3FC;\n",
              "    }\n",
              "\n",
              "    [theme=dark] .colab-df-convert:hover {\n",
              "      background-color: #434B5C;\n",
              "      box-shadow: 0px 1px 3px 1px rgba(0, 0, 0, 0.15);\n",
              "      filter: drop-shadow(0px 1px 2px rgba(0, 0, 0, 0.3));\n",
              "      fill: #FFFFFF;\n",
              "    }\n",
              "  </style>\n",
              "\n",
              "      <script>\n",
              "        const buttonEl =\n",
              "          document.querySelector('#df-6d0690b1-153e-444d-8d2e-aa455474eb53 button.colab-df-convert');\n",
              "        buttonEl.style.display =\n",
              "          google.colab.kernel.accessAllowed ? 'block' : 'none';\n",
              "\n",
              "        async function convertToInteractive(key) {\n",
              "          const element = document.querySelector('#df-6d0690b1-153e-444d-8d2e-aa455474eb53');\n",
              "          const dataTable =\n",
              "            await google.colab.kernel.invokeFunction('convertToInteractive',\n",
              "                                                     [key], {});\n",
              "          if (!dataTable) return;\n",
              "\n",
              "          const docLinkHtml = 'Like what you see? Visit the ' +\n",
              "            '<a target=\"_blank\" href=https://colab.research.google.com/notebooks/data_table.ipynb>data table notebook</a>'\n",
              "            + ' to learn more about interactive tables.';\n",
              "          element.innerHTML = '';\n",
              "          dataTable['output_type'] = 'display_data';\n",
              "          await google.colab.output.renderOutput(dataTable, element);\n",
              "          const docLink = document.createElement('div');\n",
              "          docLink.innerHTML = docLinkHtml;\n",
              "          element.appendChild(docLink);\n",
              "        }\n",
              "      </script>\n",
              "    </div>\n",
              "  </div>\n",
              "  "
            ]
          },
          "metadata": {},
          "execution_count": 19
        }
      ],
      "source": [
        "pd.set_option(\"display.max_colwidth\", 100)\n",
        "\n",
        "df = pd.DataFrame(list(zip(result[\"masked_with_entity\"], result[\"masked_with_chars\"],\n",
        "                          result[\"masked_fixed_length_chars\"], result[\"obfuscated\"])),\n",
        "                 columns= [\"Masked\", \"Masked with Chars\", \"Masked with Fixed Chars\", \"Obfuscated\"])\n",
        "\n",
        "df"
      ]
    },
    {
      "cell_type": "markdown",
      "metadata": {
        "id": "-23TgIi2-ogm"
      },
      "source": [
        "### Faker mode"
      ]
    },
    {
      "cell_type": "code",
      "execution_count": 20,
      "metadata": {
        "id": "ACPYRHr_-ogn"
      },
      "outputs": [],
      "source": [
        "deid_masked_entity = DeIdentification()\\\n",
        "    .setInputCols([\"sentence\", \"token\", \"ner_chunk_subentity\"])\\\n",
        "    .setOutputCol(\"masked_with_entity\")\\\n",
        "    .setMode(\"mask\")\\\n",
        "    .setMaskingPolicy(\"entity_labels\")\\\n",
        "\n",
        "deid_masked_char = DeIdentification()\\\n",
        "    .setInputCols([\"sentence\", \"token\", \"ner_chunk_subentity\"])\\\n",
        "    .setOutputCol(\"masked_with_chars\")\\\n",
        "    .setMode(\"mask\")\\\n",
        "    .setMaskingPolicy(\"same_length_chars\")\\\n",
        "\n",
        "deid_masked_fixed_char = DeIdentification()\\\n",
        "    .setInputCols([\"sentence\", \"token\", \"ner_chunk_subentity\"])\\\n",
        "    .setOutputCol(\"masked_fixed_length_chars\")\\\n",
        "    .setMode(\"mask\")\\\n",
        "    .setMaskingPolicy(\"fixed_length_chars\")\\\n",
        "    .setFixedMaskLength(4)\\\n",
        "\n",
        "deid_obfuscated = DeIdentification()\\\n",
        "    .setInputCols([\"sentence\", \"token\", \"ner_chunk_subentity\"]) \\\n",
        "    .setOutputCol(\"obfuscated\") \\\n",
        "    .setMode(\"obfuscate\")\\\n",
        "    .setLanguage('de')\\\n",
        "    .setObfuscateDate(True)\\\n",
        "    .setObfuscateRefSource('faker')"
      ]
    },
    {
      "cell_type": "code",
      "execution_count": 21,
      "metadata": {
        "id": "YSEA5k0W-ogn"
      },
      "outputs": [],
      "source": [
        "nlpPipeline = Pipeline(stages=[\n",
        "      documentAssembler, \n",
        "      sentencerDL,\n",
        "      tokenizer,\n",
        "      word_embeddings,\n",
        "      ner_subentity,\n",
        "      ner_converter_subentity,\n",
        "      deid_masked_entity,\n",
        "      deid_masked_char,\n",
        "      deid_masked_fixed_char,\n",
        "      deid_obfuscated\n",
        "      ])\n",
        "\n",
        "empty_data = spark.createDataFrame([[\"\"]]).toDF(\"text\")\n",
        "\n",
        "model = nlpPipeline.fit(empty_data)"
      ]
    },
    {
      "cell_type": "code",
      "execution_count": 22,
      "metadata": {
        "id": "AHb-MFBd-ogn"
      },
      "outputs": [],
      "source": [
        "deid_lp = LightPipeline(model)"
      ]
    },
    {
      "cell_type": "code",
      "execution_count": 23,
      "metadata": {
        "id": "77Nh9UlW-ogn"
      },
      "outputs": [],
      "source": [
        "text = \"\"\"Michael Berger wird am Morgen des 12 Dezember 2018 ins St. Elisabeth-Krankenhaus in Bad Kissingen eingeliefert. Herr Berger ist 76 Jahre alt und hat zu viel Wasser in den Beinen.\"\"\""
      ]
    },
    {
      "cell_type": "code",
      "execution_count": 32,
      "metadata": {
        "colab": {
          "base_uri": "https://localhost:8080/"
        },
        "id": "58XSNedA-ogn",
        "outputId": "f797d274-3cbf-4129-c276-9c84b539efa8"
      },
      "outputs": [
        {
          "output_type": "stream",
          "name": "stdout",
          "text": [
            "Zusammenfassung : <PATIENT> wird am Morgen des <DATE> ins <HOSPITAL> eingeliefert.\n",
            "Herr <PATIENT> ist <AGE> Jahre alt und hat zu viel Wasser in den Beinen.\n",
            "Persönliche Daten :\n",
            "ID-Nummer: T0110053F\n",
            "Platte A-BC124\n",
            "Kontonummer: DE89370400440532013000\n",
            "SSN : 13110587M565\n",
            "Lizenznummer: B072RRE2I55\n",
            "Adresse : <STREET> 19300\n",
            "\n",
            "\n",
            "Zusammenfassung : [************] wird am Morgen des [**************] ins [***************************************] eingeliefert.\n",
            "Herr [************] ist ** Jahre alt und hat zu viel Wasser in den Beinen.\n",
            "Persönliche Daten :\n",
            "ID-Nummer: T0110053F\n",
            "Platte A-BC124\n",
            "Kontonummer: DE89370400440532013000\n",
            "SSN : 13110587M565\n",
            "Lizenznummer: B072RRE2I55\n",
            "Adresse : [*****************] 19300\n",
            "\n",
            "\n",
            "Zusammenfassung : **** wird am Morgen des **** ins **** eingeliefert.\n",
            "Herr **** ist **** Jahre alt und hat zu viel Wasser in den Beinen.\n",
            "Persönliche Daten :\n",
            "ID-Nummer: T0110053F\n",
            "Platte A-BC124\n",
            "Kontonummer: DE89370400440532013000\n",
            "SSN : 13110587M565\n",
            "Lizenznummer: B072RRE2I55\n",
            "Adresse : **** 19300\n",
            "\n",
            "\n",
            "Zusammenfassung : Hummel Schirmer wird am Morgen des 03-10-1984 ins CHI HEALTH MERCY HOSPITAL eingeliefert.\n",
            "Herr Hummel Schirmer ist 32 Jahre alt und hat zu viel Wasser in den Beinen.\n",
            "Persönliche Daten :\n",
            "ID-Nummer: T0110053F\n",
            "Platte A-BC124\n",
            "Kontonummer: <ACCOUNT>\n",
            "SSN : 13110587M565\n",
            "Lizenznummer: B072RRE2I55\n",
            "Adresse : Bolzmanngasse 0 19300\n"
          ]
        }
      ],
      "source": [
        "result = deid_lp.annotate(text)\n",
        "\n",
        "print(\"\\n\".join(result['masked_with_entity']))\n",
        "print(\"\\n\")\n",
        "print(\"\\n\".join(result['masked_with_chars']))\n",
        "print(\"\\n\")\n",
        "print(\"\\n\".join(result['masked_fixed_length_chars']))\n",
        "print(\"\\n\")\n",
        "print(\"\\n\".join(result['obfuscated']))"
      ]
    },
    {
      "cell_type": "code",
      "execution_count": 33,
      "metadata": {
        "colab": {
          "base_uri": "https://localhost:8080/",
          "height": 521
        },
        "id": "u_Hm4pAoHteb",
        "outputId": "6be16b47-c12f-40e8-e68e-0be4e9ca9196"
      },
      "outputs": [
        {
          "output_type": "execute_result",
          "data": {
            "text/plain": [
              "                                                                               Masked  \\\n",
              "0  Zusammenfassung : <PATIENT> wird am Morgen des <DATE> ins <HOSPITAL> eingeliefert.   \n",
              "1            Herr <PATIENT> ist <AGE> Jahre alt und hat zu viel Wasser in den Beinen.   \n",
              "2                                           Persönliche Daten :\\nID-Nummer: T0110053F   \n",
              "3                                                                      Platte A-BC124   \n",
              "4                             Kontonummer: DE89370400440532013000\\nSSN : 13110587M565   \n",
              "5                                                           Lizenznummer: B072RRE2I55   \n",
              "6                                                            Adresse : <STREET> 19300   \n",
              "\n",
              "                                                                                     Masked with Chars  \\\n",
              "0  Zusammenfassung : [************] wird am Morgen des [**************] ins [**********************...   \n",
              "1                           Herr [************] ist ** Jahre alt und hat zu viel Wasser in den Beinen.   \n",
              "2                                                            Persönliche Daten :\\nID-Nummer: T0110053F   \n",
              "3                                                                                       Platte A-BC124   \n",
              "4                                              Kontonummer: DE89370400440532013000\\nSSN : 13110587M565   \n",
              "5                                                                            Lizenznummer: B072RRE2I55   \n",
              "6                                                                  Adresse : [*****************] 19300   \n",
              "\n",
              "                                                 Masked with Fixed Chars  \\\n",
              "0  Zusammenfassung : **** wird am Morgen des **** ins **** eingeliefert.   \n",
              "1     Herr **** ist **** Jahre alt und hat zu viel Wasser in den Beinen.   \n",
              "2                              Persönliche Daten :\\nID-Nummer: T0110053F   \n",
              "3                                                         Platte A-BC124   \n",
              "4                Kontonummer: DE89370400440532013000\\nSSN : 13110587M565   \n",
              "5                                              Lizenznummer: B072RRE2I55   \n",
              "6                                                   Adresse : **** 19300   \n",
              "\n",
              "                                                                                            Obfuscated  \n",
              "0  Zusammenfassung : Hummel Schirmer wird am Morgen des 03-10-1984 ins CHI HEALTH MERCY HOSPITAL ei...  \n",
              "1                          Herr Hummel Schirmer ist 32 Jahre alt und hat zu viel Wasser in den Beinen.  \n",
              "2                                                            Persönliche Daten :\\nID-Nummer: T0110053F  \n",
              "3                                                                                       Platte A-BC124  \n",
              "4                                                           Kontonummer: <ACCOUNT>\\nSSN : 13110587M565  \n",
              "5                                                                            Lizenznummer: B072RRE2I55  \n",
              "6                                                                      Adresse : Bolzmanngasse 0 19300  "
            ],
            "text/html": [
              "\n",
              "  <div id=\"df-5ab7834e-7564-40a5-b100-bb73bd92f29b\">\n",
              "    <div class=\"colab-df-container\">\n",
              "      <div>\n",
              "<style scoped>\n",
              "    .dataframe tbody tr th:only-of-type {\n",
              "        vertical-align: middle;\n",
              "    }\n",
              "\n",
              "    .dataframe tbody tr th {\n",
              "        vertical-align: top;\n",
              "    }\n",
              "\n",
              "    .dataframe thead th {\n",
              "        text-align: right;\n",
              "    }\n",
              "</style>\n",
              "<table border=\"1\" class=\"dataframe\">\n",
              "  <thead>\n",
              "    <tr style=\"text-align: right;\">\n",
              "      <th></th>\n",
              "      <th>Masked</th>\n",
              "      <th>Masked with Chars</th>\n",
              "      <th>Masked with Fixed Chars</th>\n",
              "      <th>Obfuscated</th>\n",
              "    </tr>\n",
              "  </thead>\n",
              "  <tbody>\n",
              "    <tr>\n",
              "      <th>0</th>\n",
              "      <td>Zusammenfassung : &lt;PATIENT&gt; wird am Morgen des &lt;DATE&gt; ins &lt;HOSPITAL&gt; eingeliefert.</td>\n",
              "      <td>Zusammenfassung : [************] wird am Morgen des [**************] ins [**********************...</td>\n",
              "      <td>Zusammenfassung : **** wird am Morgen des **** ins **** eingeliefert.</td>\n",
              "      <td>Zusammenfassung : Hummel Schirmer wird am Morgen des 03-10-1984 ins CHI HEALTH MERCY HOSPITAL ei...</td>\n",
              "    </tr>\n",
              "    <tr>\n",
              "      <th>1</th>\n",
              "      <td>Herr &lt;PATIENT&gt; ist &lt;AGE&gt; Jahre alt und hat zu viel Wasser in den Beinen.</td>\n",
              "      <td>Herr [************] ist ** Jahre alt und hat zu viel Wasser in den Beinen.</td>\n",
              "      <td>Herr **** ist **** Jahre alt und hat zu viel Wasser in den Beinen.</td>\n",
              "      <td>Herr Hummel Schirmer ist 32 Jahre alt und hat zu viel Wasser in den Beinen.</td>\n",
              "    </tr>\n",
              "    <tr>\n",
              "      <th>2</th>\n",
              "      <td>Persönliche Daten :\\nID-Nummer: T0110053F</td>\n",
              "      <td>Persönliche Daten :\\nID-Nummer: T0110053F</td>\n",
              "      <td>Persönliche Daten :\\nID-Nummer: T0110053F</td>\n",
              "      <td>Persönliche Daten :\\nID-Nummer: T0110053F</td>\n",
              "    </tr>\n",
              "    <tr>\n",
              "      <th>3</th>\n",
              "      <td>Platte A-BC124</td>\n",
              "      <td>Platte A-BC124</td>\n",
              "      <td>Platte A-BC124</td>\n",
              "      <td>Platte A-BC124</td>\n",
              "    </tr>\n",
              "    <tr>\n",
              "      <th>4</th>\n",
              "      <td>Kontonummer: DE89370400440532013000\\nSSN : 13110587M565</td>\n",
              "      <td>Kontonummer: DE89370400440532013000\\nSSN : 13110587M565</td>\n",
              "      <td>Kontonummer: DE89370400440532013000\\nSSN : 13110587M565</td>\n",
              "      <td>Kontonummer: &lt;ACCOUNT&gt;\\nSSN : 13110587M565</td>\n",
              "    </tr>\n",
              "    <tr>\n",
              "      <th>5</th>\n",
              "      <td>Lizenznummer: B072RRE2I55</td>\n",
              "      <td>Lizenznummer: B072RRE2I55</td>\n",
              "      <td>Lizenznummer: B072RRE2I55</td>\n",
              "      <td>Lizenznummer: B072RRE2I55</td>\n",
              "    </tr>\n",
              "    <tr>\n",
              "      <th>6</th>\n",
              "      <td>Adresse : &lt;STREET&gt; 19300</td>\n",
              "      <td>Adresse : [*****************] 19300</td>\n",
              "      <td>Adresse : **** 19300</td>\n",
              "      <td>Adresse : Bolzmanngasse 0 19300</td>\n",
              "    </tr>\n",
              "  </tbody>\n",
              "</table>\n",
              "</div>\n",
              "      <button class=\"colab-df-convert\" onclick=\"convertToInteractive('df-5ab7834e-7564-40a5-b100-bb73bd92f29b')\"\n",
              "              title=\"Convert this dataframe to an interactive table.\"\n",
              "              style=\"display:none;\">\n",
              "        \n",
              "  <svg xmlns=\"http://www.w3.org/2000/svg\" height=\"24px\"viewBox=\"0 0 24 24\"\n",
              "       width=\"24px\">\n",
              "    <path d=\"M0 0h24v24H0V0z\" fill=\"none\"/>\n",
              "    <path d=\"M18.56 5.44l.94 2.06.94-2.06 2.06-.94-2.06-.94-.94-2.06-.94 2.06-2.06.94zm-11 1L8.5 8.5l.94-2.06 2.06-.94-2.06-.94L8.5 2.5l-.94 2.06-2.06.94zm10 10l.94 2.06.94-2.06 2.06-.94-2.06-.94-.94-2.06-.94 2.06-2.06.94z\"/><path d=\"M17.41 7.96l-1.37-1.37c-.4-.4-.92-.59-1.43-.59-.52 0-1.04.2-1.43.59L10.3 9.45l-7.72 7.72c-.78.78-.78 2.05 0 2.83L4 21.41c.39.39.9.59 1.41.59.51 0 1.02-.2 1.41-.59l7.78-7.78 2.81-2.81c.8-.78.8-2.07 0-2.86zM5.41 20L4 18.59l7.72-7.72 1.47 1.35L5.41 20z\"/>\n",
              "  </svg>\n",
              "      </button>\n",
              "      \n",
              "  <style>\n",
              "    .colab-df-container {\n",
              "      display:flex;\n",
              "      flex-wrap:wrap;\n",
              "      gap: 12px;\n",
              "    }\n",
              "\n",
              "    .colab-df-convert {\n",
              "      background-color: #E8F0FE;\n",
              "      border: none;\n",
              "      border-radius: 50%;\n",
              "      cursor: pointer;\n",
              "      display: none;\n",
              "      fill: #1967D2;\n",
              "      height: 32px;\n",
              "      padding: 0 0 0 0;\n",
              "      width: 32px;\n",
              "    }\n",
              "\n",
              "    .colab-df-convert:hover {\n",
              "      background-color: #E2EBFA;\n",
              "      box-shadow: 0px 1px 2px rgba(60, 64, 67, 0.3), 0px 1px 3px 1px rgba(60, 64, 67, 0.15);\n",
              "      fill: #174EA6;\n",
              "    }\n",
              "\n",
              "    [theme=dark] .colab-df-convert {\n",
              "      background-color: #3B4455;\n",
              "      fill: #D2E3FC;\n",
              "    }\n",
              "\n",
              "    [theme=dark] .colab-df-convert:hover {\n",
              "      background-color: #434B5C;\n",
              "      box-shadow: 0px 1px 3px 1px rgba(0, 0, 0, 0.15);\n",
              "      filter: drop-shadow(0px 1px 2px rgba(0, 0, 0, 0.3));\n",
              "      fill: #FFFFFF;\n",
              "    }\n",
              "  </style>\n",
              "\n",
              "      <script>\n",
              "        const buttonEl =\n",
              "          document.querySelector('#df-5ab7834e-7564-40a5-b100-bb73bd92f29b button.colab-df-convert');\n",
              "        buttonEl.style.display =\n",
              "          google.colab.kernel.accessAllowed ? 'block' : 'none';\n",
              "\n",
              "        async function convertToInteractive(key) {\n",
              "          const element = document.querySelector('#df-5ab7834e-7564-40a5-b100-bb73bd92f29b');\n",
              "          const dataTable =\n",
              "            await google.colab.kernel.invokeFunction('convertToInteractive',\n",
              "                                                     [key], {});\n",
              "          if (!dataTable) return;\n",
              "\n",
              "          const docLinkHtml = 'Like what you see? Visit the ' +\n",
              "            '<a target=\"_blank\" href=https://colab.research.google.com/notebooks/data_table.ipynb>data table notebook</a>'\n",
              "            + ' to learn more about interactive tables.';\n",
              "          element.innerHTML = '';\n",
              "          dataTable['output_type'] = 'display_data';\n",
              "          await google.colab.output.renderOutput(dataTable, element);\n",
              "          const docLink = document.createElement('div');\n",
              "          docLink.innerHTML = docLinkHtml;\n",
              "          element.appendChild(docLink);\n",
              "        }\n",
              "      </script>\n",
              "    </div>\n",
              "  </div>\n",
              "  "
            ]
          },
          "metadata": {},
          "execution_count": 33
        }
      ],
      "source": [
        "pd.set_option(\"display.max_colwidth\", 100)\n",
        "\n",
        "df = pd.DataFrame(list(zip(result[\"masked_with_entity\"], result[\"masked_with_chars\"],\n",
        "                          result[\"masked_fixed_length_chars\"], result[\"obfuscated\"])),\n",
        "                 columns= [\"Masked\", \"Masked with Chars\", \"Masked with Fixed Chars\", \"Obfuscated\"])\n",
        "\n",
        "df"
      ]
    },
    {
      "cell_type": "markdown",
      "metadata": {
        "id": "RRuq9NeemSaf"
      },
      "source": [
        "# 2. Pretrained German Deidentification Pipeline\n",
        "\n",
        "- We developed a clinical deidentification pretrained pipeline that can be used to deidentify PHI information from German medical texts. The PHI information will be masked and obfuscated in the resulting text. \n",
        "- The pipeline can mask and obfuscate:\n",
        "    - Patient\n",
        "    - Doctor\n",
        "    - Hospital\n",
        "    - Date\n",
        "    - Organization\n",
        "    - City\n",
        "    - Street\n",
        "    - Country\n",
        "    - User name\n",
        "    - Profession\n",
        "    - Phone\n",
        "    - Age\n",
        "    - Contact\n",
        "    - ID\n",
        "    - Phone\n",
        "    - Zip\n",
        "    - Account\n",
        "    - SSN\n",
        "    - Driver's License Number\n",
        "    - Plate Number"
      ]
    },
    {
      "cell_type": "code",
      "execution_count": null,
      "metadata": {
        "colab": {
          "base_uri": "https://localhost:8080/"
        },
        "id": "_vBWjdVTFGHD",
        "outputId": "bbfd876f-d977-456a-a425-f1c879afde8d"
      },
      "outputs": [
        {
          "output_type": "stream",
          "name": "stdout",
          "text": [
            "clinical_deidentification download started this may take some time.\n",
            "Approx size to download 1.2 GB\n",
            "[ \\ ]"
          ]
        }
      ],
      "source": [
        "from sparknlp.pretrained import PretrainedPipeline\n",
        "\n",
        "deid_pipeline = PretrainedPipeline(\"clinical_deidentification\", \"de\", \"clinical/models\")"
      ]
    },
    {
      "cell_type": "code",
      "execution_count": 29,
      "metadata": {
        "colab": {
          "base_uri": "https://localhost:8080/"
        },
        "id": "Esy1Yis8Hn1X",
        "outputId": "ce470dcf-771c-49f7-de51-804d38d8d613"
      },
      "outputs": [
        {
          "output_type": "stream",
          "name": "stdout",
          "text": [
            "Zusammenfassung : [************] wird am Morgen des [**************] ins [***************************************] eingeliefert.\n",
            "Herr [************] ist ** Jahre alt und hat zu viel Wasser in den Beinen.\n",
            "Persönliche Daten :\n",
            "ID-Nummer: [*******]\n",
            "Platte [*****]\n",
            "Kontonummer: [********************]\n",
            "SSN : [**********]\n",
            "Lizenznummer: [*********]\n",
            "Adresse : [*****************] [***]\n",
            "\n",
            "\n",
            "Zusammenfassung : <PATIENT> wird am Morgen des <DATE> ins <HOSPITAL> eingeliefert.\n",
            "Herr <PATIENT> ist <AGE> Jahre alt und hat zu viel Wasser in den Beinen.\n",
            "Persönliche Daten :\n",
            "ID-Nummer: <ID>\n",
            "Platte <PLATE>\n",
            "Kontonummer: <ACCOUNT>\n",
            "SSN : <SSN>\n",
            "Lizenznummer: <DLN>\n",
            "Adresse : <STREET> <ZIP>\n",
            "\n",
            "\n",
            "Zusammenfassung : **** wird am Morgen des **** ins **** eingeliefert.\n",
            "Herr **** ist **** Jahre alt und hat zu viel Wasser in den Beinen.\n",
            "Persönliche Daten :\n",
            "ID-Nummer: ****\n",
            "Platte ****\n",
            "Kontonummer: ****\n",
            "SSN : ****\n",
            "Lizenznummer: ****\n",
            "Adresse : **** ****\n",
            "\n",
            "\n",
            "Zusammenfassung : Hollmann Burmeister wird am Morgen des 11-01-1970 ins SAN RAMON REGIONAL MEDICAL CENTER SOUTH BUILDING eingeliefert.\n",
            "Herr Hollmann Burmeister ist 0 Jahre alt und hat zu viel Wasser in den Beinen.\n",
            "Persönliche Daten :\n",
            "ID-Nummer: L6043236\n",
            "Platte QA348G\n",
            "Kontonummer: 192837465738\n",
            "SSN : 999-30-4262\n",
            "Lizenznummer: S99913378\n",
            "Adresse : Guntram-Hofmann-Gasse 6 31%05d\n"
          ]
        }
      ],
      "source": [
        "text = \"\"\"Zusammenfassung : Michael Berger wird am Morgen des 12 Dezember 2018 ins St.Elisabeth Krankenhaus in Bad Kissingen eingeliefert. \n",
        "Herr Michael Berger ist 76 Jahre alt und hat zu viel Wasser in den Beinen.\n",
        "\n",
        "Persönliche Daten :\n",
        "ID-Nummer: T0110053F\n",
        "Platte A-BC124\n",
        "Kontonummer: DE89370400440532013000\n",
        "SSN : 13110587M565\n",
        "Lizenznummer: B072RRE2I55\n",
        "Adresse : St.Johann-Straße 13 19300\"\"\"\n",
        "\n",
        "result = deid_pipeline.annotate(text)\n",
        "print(\"\\n\".join(result['masked_with_chars']))\n",
        "print(\"\\n\")\n",
        "print(\"\\n\".join(result['masked']))\n",
        "print(\"\\n\")\n",
        "print(\"\\n\".join(result['masked_fixed_length_chars']))\n",
        "print(\"\\n\")\n",
        "print(\"\\n\".join(result['obfuscated']))"
      ]
    },
    {
      "cell_type": "code",
      "execution_count": 30,
      "metadata": {
        "colab": {
          "base_uri": "https://localhost:8080/",
          "height": 573
        },
        "id": "TQ2Gk7lSEjgp",
        "outputId": "01faafc1-e2ab-4dab-97e2-ed8f5953b9f9"
      },
      "outputs": [
        {
          "output_type": "execute_result",
          "data": {
            "text/plain": [
              "                                                                                              Sentence  \\\n",
              "0  Zusammenfassung : Michael Berger wird am Morgen des 12 Dezember 2018 ins St.Elisabeth Krankenhau...   \n",
              "1                           Herr Michael Berger ist 76 Jahre alt und hat zu viel Wasser in den Beinen.   \n",
              "2                                                            Persönliche Daten :\\nID-Nummer: T0110053F   \n",
              "3                                                                                       Platte A-BC124   \n",
              "4                                              Kontonummer: DE89370400440532013000\\nSSN : 13110587M565   \n",
              "5                                                                            Lizenznummer: B072RRE2I55   \n",
              "6                                                                  Adresse : St.Johann-Straße 13 19300   \n",
              "\n",
              "                                                                               Masked  \\\n",
              "0  Zusammenfassung : <PATIENT> wird am Morgen des <DATE> ins <HOSPITAL> eingeliefert.   \n",
              "1            Herr <PATIENT> ist <AGE> Jahre alt und hat zu viel Wasser in den Beinen.   \n",
              "2                                                Persönliche Daten :\\nID-Nummer: <ID>   \n",
              "3                                                                      Platte <PLATE>   \n",
              "4                                                 Kontonummer: <ACCOUNT>\\nSSN : <SSN>   \n",
              "5                                                                 Lizenznummer: <DLN>   \n",
              "6                                                            Adresse : <STREET> <ZIP>   \n",
              "\n",
              "                                                                                     Masked with Chars  \\\n",
              "0  Zusammenfassung : [************] wird am Morgen des [**************] ins [**********************...   \n",
              "1                           Herr [************] ist ** Jahre alt und hat zu viel Wasser in den Beinen.   \n",
              "2                                                            Persönliche Daten :\\nID-Nummer: [*******]   \n",
              "3                                                                                       Platte [*****]   \n",
              "4                                              Kontonummer: [********************]\\nSSN : [**********]   \n",
              "5                                                                            Lizenznummer: [*********]   \n",
              "6                                                                  Adresse : [*****************] [***]   \n",
              "\n",
              "                                                 Masked with Fixed Chars  \\\n",
              "0  Zusammenfassung : **** wird am Morgen des **** ins **** eingeliefert.   \n",
              "1     Herr **** ist **** Jahre alt und hat zu viel Wasser in den Beinen.   \n",
              "2                                   Persönliche Daten :\\nID-Nummer: ****   \n",
              "3                                                            Platte ****   \n",
              "4                                          Kontonummer: ****\\nSSN : ****   \n",
              "5                                                     Lizenznummer: ****   \n",
              "6                                                    Adresse : **** ****   \n",
              "\n",
              "                                                                                            Obfuscated  \n",
              "0  Zusammenfassung : Hollmann Burmeister wird am Morgen des 11-01-1970 ins SAN RAMON REGIONAL MEDIC...  \n",
              "1                       Herr Hollmann Burmeister ist 0 Jahre alt und hat zu viel Wasser in den Beinen.  \n",
              "2                                                             Persönliche Daten :\\nID-Nummer: L6043236  \n",
              "3                                                                                        Platte QA348G  \n",
              "4                                                         Kontonummer: 192837465738\\nSSN : 999-30-4262  \n",
              "5                                                                              Lizenznummer: S99913378  \n",
              "6                                                             Adresse : Guntram-Hofmann-Gasse 6 31%05d  "
            ],
            "text/html": [
              "\n",
              "  <div id=\"df-b36a08d8-e6f8-4029-87d4-7f9fc0e85bcd\">\n",
              "    <div class=\"colab-df-container\">\n",
              "      <div>\n",
              "<style scoped>\n",
              "    .dataframe tbody tr th:only-of-type {\n",
              "        vertical-align: middle;\n",
              "    }\n",
              "\n",
              "    .dataframe tbody tr th {\n",
              "        vertical-align: top;\n",
              "    }\n",
              "\n",
              "    .dataframe thead th {\n",
              "        text-align: right;\n",
              "    }\n",
              "</style>\n",
              "<table border=\"1\" class=\"dataframe\">\n",
              "  <thead>\n",
              "    <tr style=\"text-align: right;\">\n",
              "      <th></th>\n",
              "      <th>Sentence</th>\n",
              "      <th>Masked</th>\n",
              "      <th>Masked with Chars</th>\n",
              "      <th>Masked with Fixed Chars</th>\n",
              "      <th>Obfuscated</th>\n",
              "    </tr>\n",
              "  </thead>\n",
              "  <tbody>\n",
              "    <tr>\n",
              "      <th>0</th>\n",
              "      <td>Zusammenfassung : Michael Berger wird am Morgen des 12 Dezember 2018 ins St.Elisabeth Krankenhau...</td>\n",
              "      <td>Zusammenfassung : &lt;PATIENT&gt; wird am Morgen des &lt;DATE&gt; ins &lt;HOSPITAL&gt; eingeliefert.</td>\n",
              "      <td>Zusammenfassung : [************] wird am Morgen des [**************] ins [**********************...</td>\n",
              "      <td>Zusammenfassung : **** wird am Morgen des **** ins **** eingeliefert.</td>\n",
              "      <td>Zusammenfassung : Hollmann Burmeister wird am Morgen des 11-01-1970 ins SAN RAMON REGIONAL MEDIC...</td>\n",
              "    </tr>\n",
              "    <tr>\n",
              "      <th>1</th>\n",
              "      <td>Herr Michael Berger ist 76 Jahre alt und hat zu viel Wasser in den Beinen.</td>\n",
              "      <td>Herr &lt;PATIENT&gt; ist &lt;AGE&gt; Jahre alt und hat zu viel Wasser in den Beinen.</td>\n",
              "      <td>Herr [************] ist ** Jahre alt und hat zu viel Wasser in den Beinen.</td>\n",
              "      <td>Herr **** ist **** Jahre alt und hat zu viel Wasser in den Beinen.</td>\n",
              "      <td>Herr Hollmann Burmeister ist 0 Jahre alt und hat zu viel Wasser in den Beinen.</td>\n",
              "    </tr>\n",
              "    <tr>\n",
              "      <th>2</th>\n",
              "      <td>Persönliche Daten :\\nID-Nummer: T0110053F</td>\n",
              "      <td>Persönliche Daten :\\nID-Nummer: &lt;ID&gt;</td>\n",
              "      <td>Persönliche Daten :\\nID-Nummer: [*******]</td>\n",
              "      <td>Persönliche Daten :\\nID-Nummer: ****</td>\n",
              "      <td>Persönliche Daten :\\nID-Nummer: L6043236</td>\n",
              "    </tr>\n",
              "    <tr>\n",
              "      <th>3</th>\n",
              "      <td>Platte A-BC124</td>\n",
              "      <td>Platte &lt;PLATE&gt;</td>\n",
              "      <td>Platte [*****]</td>\n",
              "      <td>Platte ****</td>\n",
              "      <td>Platte QA348G</td>\n",
              "    </tr>\n",
              "    <tr>\n",
              "      <th>4</th>\n",
              "      <td>Kontonummer: DE89370400440532013000\\nSSN : 13110587M565</td>\n",
              "      <td>Kontonummer: &lt;ACCOUNT&gt;\\nSSN : &lt;SSN&gt;</td>\n",
              "      <td>Kontonummer: [********************]\\nSSN : [**********]</td>\n",
              "      <td>Kontonummer: ****\\nSSN : ****</td>\n",
              "      <td>Kontonummer: 192837465738\\nSSN : 999-30-4262</td>\n",
              "    </tr>\n",
              "    <tr>\n",
              "      <th>5</th>\n",
              "      <td>Lizenznummer: B072RRE2I55</td>\n",
              "      <td>Lizenznummer: &lt;DLN&gt;</td>\n",
              "      <td>Lizenznummer: [*********]</td>\n",
              "      <td>Lizenznummer: ****</td>\n",
              "      <td>Lizenznummer: S99913378</td>\n",
              "    </tr>\n",
              "    <tr>\n",
              "      <th>6</th>\n",
              "      <td>Adresse : St.Johann-Straße 13 19300</td>\n",
              "      <td>Adresse : &lt;STREET&gt; &lt;ZIP&gt;</td>\n",
              "      <td>Adresse : [*****************] [***]</td>\n",
              "      <td>Adresse : **** ****</td>\n",
              "      <td>Adresse : Guntram-Hofmann-Gasse 6 31%05d</td>\n",
              "    </tr>\n",
              "  </tbody>\n",
              "</table>\n",
              "</div>\n",
              "      <button class=\"colab-df-convert\" onclick=\"convertToInteractive('df-b36a08d8-e6f8-4029-87d4-7f9fc0e85bcd')\"\n",
              "              title=\"Convert this dataframe to an interactive table.\"\n",
              "              style=\"display:none;\">\n",
              "        \n",
              "  <svg xmlns=\"http://www.w3.org/2000/svg\" height=\"24px\"viewBox=\"0 0 24 24\"\n",
              "       width=\"24px\">\n",
              "    <path d=\"M0 0h24v24H0V0z\" fill=\"none\"/>\n",
              "    <path d=\"M18.56 5.44l.94 2.06.94-2.06 2.06-.94-2.06-.94-.94-2.06-.94 2.06-2.06.94zm-11 1L8.5 8.5l.94-2.06 2.06-.94-2.06-.94L8.5 2.5l-.94 2.06-2.06.94zm10 10l.94 2.06.94-2.06 2.06-.94-2.06-.94-.94-2.06-.94 2.06-2.06.94z\"/><path d=\"M17.41 7.96l-1.37-1.37c-.4-.4-.92-.59-1.43-.59-.52 0-1.04.2-1.43.59L10.3 9.45l-7.72 7.72c-.78.78-.78 2.05 0 2.83L4 21.41c.39.39.9.59 1.41.59.51 0 1.02-.2 1.41-.59l7.78-7.78 2.81-2.81c.8-.78.8-2.07 0-2.86zM5.41 20L4 18.59l7.72-7.72 1.47 1.35L5.41 20z\"/>\n",
              "  </svg>\n",
              "      </button>\n",
              "      \n",
              "  <style>\n",
              "    .colab-df-container {\n",
              "      display:flex;\n",
              "      flex-wrap:wrap;\n",
              "      gap: 12px;\n",
              "    }\n",
              "\n",
              "    .colab-df-convert {\n",
              "      background-color: #E8F0FE;\n",
              "      border: none;\n",
              "      border-radius: 50%;\n",
              "      cursor: pointer;\n",
              "      display: none;\n",
              "      fill: #1967D2;\n",
              "      height: 32px;\n",
              "      padding: 0 0 0 0;\n",
              "      width: 32px;\n",
              "    }\n",
              "\n",
              "    .colab-df-convert:hover {\n",
              "      background-color: #E2EBFA;\n",
              "      box-shadow: 0px 1px 2px rgba(60, 64, 67, 0.3), 0px 1px 3px 1px rgba(60, 64, 67, 0.15);\n",
              "      fill: #174EA6;\n",
              "    }\n",
              "\n",
              "    [theme=dark] .colab-df-convert {\n",
              "      background-color: #3B4455;\n",
              "      fill: #D2E3FC;\n",
              "    }\n",
              "\n",
              "    [theme=dark] .colab-df-convert:hover {\n",
              "      background-color: #434B5C;\n",
              "      box-shadow: 0px 1px 3px 1px rgba(0, 0, 0, 0.15);\n",
              "      filter: drop-shadow(0px 1px 2px rgba(0, 0, 0, 0.3));\n",
              "      fill: #FFFFFF;\n",
              "    }\n",
              "  </style>\n",
              "\n",
              "      <script>\n",
              "        const buttonEl =\n",
              "          document.querySelector('#df-b36a08d8-e6f8-4029-87d4-7f9fc0e85bcd button.colab-df-convert');\n",
              "        buttonEl.style.display =\n",
              "          google.colab.kernel.accessAllowed ? 'block' : 'none';\n",
              "\n",
              "        async function convertToInteractive(key) {\n",
              "          const element = document.querySelector('#df-b36a08d8-e6f8-4029-87d4-7f9fc0e85bcd');\n",
              "          const dataTable =\n",
              "            await google.colab.kernel.invokeFunction('convertToInteractive',\n",
              "                                                     [key], {});\n",
              "          if (!dataTable) return;\n",
              "\n",
              "          const docLinkHtml = 'Like what you see? Visit the ' +\n",
              "            '<a target=\"_blank\" href=https://colab.research.google.com/notebooks/data_table.ipynb>data table notebook</a>'\n",
              "            + ' to learn more about interactive tables.';\n",
              "          element.innerHTML = '';\n",
              "          dataTable['output_type'] = 'display_data';\n",
              "          await google.colab.output.renderOutput(dataTable, element);\n",
              "          const docLink = document.createElement('div');\n",
              "          docLink.innerHTML = docLinkHtml;\n",
              "          element.appendChild(docLink);\n",
              "        }\n",
              "      </script>\n",
              "    </div>\n",
              "  </div>\n",
              "  "
            ]
          },
          "metadata": {},
          "execution_count": 30
        }
      ],
      "source": [
        "pd.set_option(\"display.max_colwidth\", 100)\n",
        "\n",
        "df = pd.DataFrame(list(zip(result[\"sentence\"], result[\"masked\"],\n",
        "                          result[\"masked_with_chars\"], result[\"masked_fixed_length_chars\"], result[\"obfuscated\"])),\n",
        "                 columns= [\"Sentence\", \"Masked\", \"Masked with Chars\", \"Masked with Fixed Chars\", \"Obfuscated\"])\n",
        "\n",
        "df"
      ]
    }
  ],
  "metadata": {
    "colab": {
      "collapsed_sections": [],
      "name": "4.1.Clinical_Deidentification_in_German.ipynb",
      "provenance": [],
      "include_colab_link": true
    },
    "kernelspec": {
      "display_name": "Python 3",
      "name": "python3"
    },
    "language_info": {
      "name": "python"
    },
    "accelerator": "GPU"
  },
  "nbformat": 4,
  "nbformat_minor": 0
}